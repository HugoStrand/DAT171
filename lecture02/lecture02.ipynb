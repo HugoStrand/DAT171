{
 "cells": [
  {
   "cell_type": "markdown",
   "metadata": {
    "nbpresent": {
     "id": "507331f6-2beb-425c-89a6-21ff3bbdeb6f"
    }
   },
   "source": [
    "Lecture 2 will go through the syntax and basics of using Python and the Python interpreter.\n",
    "\n",
    "This lecture is meant to get you up and going with Python to the same level as most M-students have of Matlab programming.\n",
    "\n",
    "Reference\n",
    "* [1] Chapter 1.6, 2.1-2.2, 3, 4, 5, 6, 8\n",
    "* [2] Section 3, 4, 5"
   ]
  },
  {
   "cell_type": "markdown",
   "metadata": {
    "nbpresent": {
     "id": "34e0513b-8ab8-4434-b110-86aaaa7310a3"
    }
   },
   "source": [
    "# Built in help"
   ]
  },
  {
   "cell_type": "markdown",
   "metadata": {
    "nbpresent": {
     "id": "ca723da7-ad5f-49aa-8942-e4e9319272f9"
    }
   },
   "source": [
    "## The `help` function"
   ]
  },
  {
   "cell_type": "markdown",
   "metadata": {
    "nbpresent": {
     "id": "aa1956f1-4b39-4df2-b8cb-5b782b2fd669"
    }
   },
   "source": [
    "* You can run `help` on most things, functions, libraries, variables"
   ]
  },
  {
   "cell_type": "code",
   "execution_count": null,
   "metadata": {
    "nbpresent": {
     "id": "725280c2-0232-4b47-bf89-d937f4874530"
    },
    "slideshow": {
     "slide_type": "slide"
    }
   },
   "outputs": [],
   "source": [
    "help(len)"
   ]
  },
  {
   "cell_type": "markdown",
   "metadata": {
    "nbpresent": {
     "id": "616ab666-6781-431d-8da9-20136f012819"
    }
   },
   "source": [
    "## Tab-completion"
   ]
  },
  {
   "cell_type": "code",
   "execution_count": null,
   "metadata": {
    "nbpresent": {
     "id": "23d70f69-0db7-4292-a972-80c2ac714066"
    }
   },
   "outputs": [],
   "source": [
    "areallylongvariablename = 123"
   ]
  },
  {
   "cell_type": "code",
   "execution_count": null,
   "metadata": {
    "nbpresent": {
     "id": "7997273c-8564-487e-98e7-78cb9759fa3d"
    }
   },
   "outputs": [],
   "source": [
    "print(areallyl)"
   ]
  },
  {
   "cell_type": "markdown",
   "metadata": {
    "nbpresent": {
     "id": "a70ffc13-0fee-4229-ae43-0a4fb4450f34"
    }
   },
   "source": [
    "* Not only for reducing typing, it will also reveal what functions are available\n",
    "```python\n",
    "In [1]: x = 'Python!'\n",
    "In [2]: x.                                                                               \n",
    "x.capitalize    x.format_map    x.isprintable   x.partition     x.splitlines             \n",
    "x.casefold      x.index         x.isspace       x.replace       x.startswith             \n",
    "x.center        x.isalnum       x.istitle       x.rfind         x.strip                  \n",
    "x.count         x.isalpha       x.isupper       x.rindex        x.swapcase               \n",
    "x.encode        x.isdecimal     x.join          x.rjust         x.title                  \n",
    "x.endswith      x.isdigit       x.ljust         x.rpartition    x.translate                   \n",
    "x.expandtabs    x.isidentifier  x.lower         x.rsplit        x.upper                       \n",
    "x.find          x.islower       x.lstrip        x.rstrip        x.zfill\n",
    "x.format        x.isnumeric     x.maketrans     x.split   \n",
    "```"
   ]
  },
  {
   "cell_type": "code",
   "execution_count": null,
   "metadata": {
    "nbpresent": {
     "id": "77148203-bb29-4976-87dd-4100045544ae"
    }
   },
   "outputs": [],
   "source": [
    "x = 'Hello'"
   ]
  },
  {
   "cell_type": "markdown",
   "metadata": {
    "nbpresent": {
     "id": "0d75eb41-2020-4b25-a8ed-75ab1e6d1922"
    }
   },
   "source": [
    "# Errors"
   ]
  },
  {
   "cell_type": "markdown",
   "metadata": {
    "nbpresent": {
     "id": "310bfe8f-2218-4dd1-809c-1b713d61ee57"
    }
   },
   "source": [
    "* Syntax errors are probably going to be the most common error"
   ]
  },
  {
   "cell_type": "code",
   "execution_count": null,
   "metadata": {
    "nbpresent": {
     "id": "7f2c3522-5c8a-4523-b68a-ff876678985a"
    }
   },
   "outputs": [],
   "source": [
    "x = 123 + /34"
   ]
  },
  {
   "cell_type": "markdown",
   "metadata": {
    "nbpresent": {
     "id": "c8afc023-65f2-47fe-863c-712d0f9f2356"
    }
   },
   "source": [
    "* Mostly self explanatory"
   ]
  },
  {
   "cell_type": "code",
   "execution_count": null,
   "metadata": {
    "nbpresent": {
     "id": "c9f167c8-c002-493e-828d-2ba17b4b064e"
    }
   },
   "outputs": [],
   "source": [
    "132/0"
   ]
  },
  {
   "cell_type": "code",
   "execution_count": null,
   "metadata": {
    "nbpresent": {
     "id": "26cdf0e4-c5cb-4228-a1d6-dad293792208"
    }
   },
   "outputs": [],
   "source": [
    "x = [1,2,3]\n",
    "x[8]"
   ]
  },
  {
   "cell_type": "markdown",
   "metadata": {
    "nbpresent": {
     "id": "e6431f55-51c0-41c5-951b-70b37e49c365"
    }
   },
   "source": [
    "# Values and data types"
   ]
  },
  {
   "cell_type": "markdown",
   "metadata": {
    "nbpresent": {
     "id": "13592a31-8f6b-4487-8e6a-10965b630e78"
    }
   },
   "source": [
    "* You can check the type of almost any value"
   ]
  },
  {
   "cell_type": "code",
   "execution_count": null,
   "metadata": {
    "nbpresent": {
     "id": "77a62f08-4e10-4c89-9f3b-51e5e76ac0d0"
    }
   },
   "outputs": [],
   "source": [
    "type(3.14)"
   ]
  },
  {
   "cell_type": "code",
   "execution_count": null,
   "metadata": {
    "nbpresent": {
     "id": "18002cdf-6933-45c0-85e5-513a01fb1036"
    }
   },
   "outputs": [],
   "source": [
    "type('Hello World')"
   ]
  },
  {
   "cell_type": "code",
   "execution_count": null,
   "metadata": {
    "nbpresent": {
     "id": "3bde17f1-a6cb-4f0d-b3db-bcfbe031c829"
    }
   },
   "outputs": [],
   "source": [
    "type(100)"
   ]
  },
  {
   "cell_type": "code",
   "execution_count": null,
   "metadata": {
    "nbpresent": {
     "id": "4bddacdf-9a2c-48cb-a0ba-c0251b48fbe4"
    }
   },
   "outputs": [],
   "source": [
    "type(len)"
   ]
  },
  {
   "cell_type": "markdown",
   "metadata": {
    "nbpresent": {
     "id": "9f574043-b03e-49ee-8ab9-42b1d1a075d5"
    }
   },
   "source": [
    "The type is itself a value of the type 'type'"
   ]
  },
  {
   "cell_type": "code",
   "execution_count": null,
   "metadata": {
    "nbpresent": {
     "id": "18d8ae83-aec7-4fe0-ad0c-270be21d2f89"
    }
   },
   "outputs": [],
   "source": [
    "type(int)"
   ]
  },
  {
   "cell_type": "markdown",
   "metadata": {
    "nbpresent": {
     "id": "57416a43-156e-4de3-83db-371dcce5531e"
    }
   },
   "source": [
    "## Type conversion"
   ]
  },
  {
   "cell_type": "markdown",
   "metadata": {
    "nbpresent": {
     "id": "c50d91da-74dd-446a-bb61-8f247ff0ac69"
    }
   },
   "source": [
    "* Changing types is possible through the built in functions"
   ]
  },
  {
   "cell_type": "code",
   "execution_count": null,
   "metadata": {
    "nbpresent": {
     "id": "5d5f24d7-2665-4a7f-bb12-8f74c6a9d0d1"
    }
   },
   "outputs": [],
   "source": [
    "x = int('123')\n",
    "type(x)"
   ]
  },
  {
   "cell_type": "code",
   "execution_count": null,
   "metadata": {
    "nbpresent": {
     "id": "9c8625b8-0447-43fb-b6d8-f8209997f656"
    }
   },
   "outputs": [],
   "source": [
    "x = str(45.3)\n",
    "type(x)"
   ]
  },
  {
   "cell_type": "markdown",
   "metadata": {
    "nbpresent": {
     "id": "3bddc5e7-f622-4726-93ab-ae9413ccc453"
    }
   },
   "source": [
    "But only if there is sensible conversion to make"
   ]
  },
  {
   "cell_type": "code",
   "execution_count": null,
   "metadata": {
    "nbpresent": {
     "id": "d2cf1a9a-1af9-4939-81da-76ee1ab7f7bb"
    }
   },
   "outputs": [],
   "source": [
    "x = int('Carl')"
   ]
  },
  {
   "cell_type": "markdown",
   "metadata": {
    "nbpresent": {
     "id": "302b5c67-99b3-44c4-ba47-a756322c4983"
    }
   },
   "source": [
    "# Modules"
   ]
  },
  {
   "cell_type": "markdown",
   "metadata": {
    "nbpresent": {
     "id": "c425e7dd-59ee-4f55-9537-737ab78c8eb9"
    }
   },
   "source": [
    "As opposed to Matlab, most content is not available in the global scope (namespace).\n",
    "One needs to import modules (even ones included in Python) to have access to most functionality.\n",
    "\n",
    "These are places under a namespace, which by default is the same as the library name.\n",
    "Namespaces are used to avoid name-collisions between common function names."
   ]
  },
  {
   "cell_type": "markdown",
   "metadata": {
    "nbpresent": {
     "id": "fa7116ee-d215-4cb6-8dee-1b354d6ea79c"
    }
   },
   "source": [
    "## Importing modules"
   ]
  },
  {
   "cell_type": "code",
   "execution_count": null,
   "metadata": {
    "nbpresent": {
     "id": "d79cc12d-afee-4340-a944-5b36b2a6beac"
    }
   },
   "outputs": [],
   "source": [
    "import math\n",
    "math.sqrt(5)"
   ]
  },
  {
   "cell_type": "markdown",
   "metadata": {
    "nbpresent": {
     "id": "272c57d3-9768-468b-9320-8bb611d4ca29"
    }
   },
   "source": [
    "##  Abbreviating the namespace"
   ]
  },
  {
   "cell_type": "code",
   "execution_count": null,
   "metadata": {
    "nbpresent": {
     "id": "1c5b6ba4-1cdb-4989-ab7c-2613353304dd"
    }
   },
   "outputs": [],
   "source": [
    "import math as m\n",
    "m.sqrt(5)"
   ]
  },
  {
   "cell_type": "markdown",
   "metadata": {
    "nbpresent": {
     "id": "061f28a6-8681-419f-9692-2844b85d530f"
    }
   },
   "source": [
    "## Selective importing"
   ]
  },
  {
   "cell_type": "code",
   "execution_count": null,
   "metadata": {
    "nbpresent": {
     "id": "b5d51509-cfcb-42a3-9b22-fc669414f2f6"
    }
   },
   "outputs": [],
   "source": [
    "from math import cos, pi\n",
    "cos(1.5*pi)"
   ]
  },
  {
   "cell_type": "code",
   "execution_count": null,
   "metadata": {
    "nbpresent": {
     "id": "c87ed107-566d-489c-8df7-415f1e06f649"
    }
   },
   "outputs": [],
   "source": [
    "from math import pi as paj\n",
    "print(paj)"
   ]
  },
  {
   "cell_type": "code",
   "execution_count": null,
   "metadata": {
    "nbpresent": {
     "id": "6562c92f-5d4e-4b25-8a64-3805ba25651a"
    }
   },
   "outputs": [],
   "source": [
    "sin(5) # Only cos and pi was imported, this will fail."
   ]
  },
  {
   "cell_type": "markdown",
   "metadata": {
    "nbpresent": {
     "id": "be790436-f6ad-4428-a14d-c4d84f20c901"
    }
   },
   "source": [
    "## Wildcards"
   ]
  },
  {
   "cell_type": "markdown",
   "metadata": {
    "nbpresent": {
     "id": "981d7f5e-0052-4108-82c1-a4e46df8c1ad"
    }
   },
   "source": [
    "Using the wildcard, you import everything in that scope\n",
    "\n",
    "```python\n",
    "from math import *\n",
    "```\n",
    "\n",
    "but this practice is generally discouraged!!"
   ]
  },
  {
   "cell_type": "markdown",
   "metadata": {
    "nbpresent": {
     "id": "d0d03069-aec2-4485-a8cd-47ff06d9edc4"
    }
   },
   "source": [
    "# Strings"
   ]
  },
  {
   "cell_type": "markdown",
   "metadata": {
    "nbpresent": {
     "id": "d0f3b5db-1e83-4a9a-a74d-41dbe9c9735a"
    }
   },
   "source": [
    "* Almost identical to Matlab and most other languages. However, strings are immutable in Python\n",
    "* Immutable /ɪˈmjuːtəb(ə)l/: *unchanging over time or unable to be changed*"
   ]
  },
  {
   "cell_type": "code",
   "execution_count": null,
   "metadata": {
    "nbpresent": {
     "id": "07c3ed0e-5d70-411e-99aa-caf28aee2722"
    }
   },
   "outputs": [],
   "source": [
    "x = 'Hello World' # or \"Hello World\", \"\"\"Hello World\"\"\", '''Hello World'''\n",
    "x[0] = 'Y'"
   ]
  },
  {
   "cell_type": "markdown",
   "metadata": {
    "nbpresent": {
     "id": "d2f6c1fa-e000-474d-a35d-00b605e556b1"
    }
   },
   "source": [
    "* Instead, a new string must be created"
   ]
  },
  {
   "cell_type": "code",
   "execution_count": null,
   "metadata": {
    "nbpresent": {
     "id": "e2148bd9-1a79-468d-9e2f-ca8e284dd386"
    }
   },
   "outputs": [],
   "source": [
    "x = 'Y' + x[1:]\n",
    "print(x)"
   ]
  },
  {
   "cell_type": "markdown",
   "metadata": {
    "nbpresent": {
     "id": "dc589740-3804-4519-988d-56141c8a6b44"
    }
   },
   "source": [
    "* Line breaks and special characters just like in Matlab"
   ]
  },
  {
   "cell_type": "code",
   "execution_count": null,
   "metadata": {
    "nbpresent": {
     "id": "ad3ef4dd-8adf-47ad-b864-fedf192673e4"
    }
   },
   "outputs": [],
   "source": [
    "x = 'Hello\\nWorld'\n",
    "print(x)"
   ]
  },
  {
   "cell_type": "markdown",
   "metadata": {
    "nbpresent": {
     "id": "43c74564-ba67-44be-875d-6a0cbf54dfdf"
    }
   },
   "source": [
    "* String functions\n",
    "\n",
    "```python\n",
    "x.capitalize    x.encode        x.format        ... # and many more\n",
    "```\n",
    "\n",
    "* We will go through strings more in Lecture 3"
   ]
  },
  {
   "cell_type": "markdown",
   "metadata": {
    "nbpresent": {
     "id": "c01b0c7a-fff5-48dc-98cf-68458ac637ea"
    }
   },
   "source": [
    "# Lists"
   ]
  },
  {
   "cell_type": "markdown",
   "metadata": {
    "nbpresent": {
     "id": "ad1c8625-d5d2-46d7-8bb6-cb6c747d59c9"
    }
   },
   "source": [
    "* Lists are your standard storage option"
   ]
  },
  {
   "cell_type": "code",
   "execution_count": null,
   "metadata": {
    "nbpresent": {
     "id": "94472fef-df50-44a4-be0e-025e400c51aa"
    }
   },
   "outputs": [],
   "source": [
    "x = [43, 10, 15]\n",
    "len(x)"
   ]
  },
  {
   "cell_type": "markdown",
   "metadata": {
    "nbpresent": {
     "id": "76a1060e-ac31-4064-8441-50f8ee6c14ea"
    }
   },
   "source": [
    "* Lists can store any object (including other lists)"
   ]
  },
  {
   "cell_type": "code",
   "execution_count": null,
   "metadata": {
    "nbpresent": {
     "id": "04817f91-572a-4e5c-a049-0ef8236478ae"
    }
   },
   "outputs": [],
   "source": [
    "x = [[1, 2, 3], [4, 2], [9, 4, 2]]\n",
    "y = ['Hello', 'World']"
   ]
  },
  {
   "cell_type": "markdown",
   "metadata": {
    "nbpresent": {
     "id": "c072d18d-e2b1-4e8e-b485-07b7456d4eab"
    }
   },
   "source": [
    "* Mixing object types is possible but strongly discouraged"
   ]
  },
  {
   "cell_type": "code",
   "execution_count": null,
   "metadata": {
    "nbpresent": {
     "id": "bb42e499-7a21-4045-8301-547a9ddbd052"
    }
   },
   "outputs": [],
   "source": [
    "x = [123, 2.43, 'Hello']"
   ]
  },
  {
   "cell_type": "markdown",
   "metadata": {
    "nbpresent": {
     "id": "820c1d78-24e4-4ee8-96d4-1b8aef17917c"
    }
   },
   "source": [
    "In those cases, it's more suitable to use a tuple (see below)"
   ]
  },
  {
   "cell_type": "markdown",
   "metadata": {
    "nbpresent": {
     "id": "72752a62-2e9a-4ba9-9fb3-842cb24341d3"
    }
   },
   "source": [
    " * List-functions\n",
    " ```python\n",
    " x.append   x.clear    x.copy     x.count    \n",
    " x.extend   x.index    x.insert   x.pop      \n",
    " x.remove   x.reverse  x.sort\n",
    " ```"
   ]
  },
  {
   "cell_type": "code",
   "execution_count": null,
   "metadata": {
    "nbpresent": {
     "id": "b419621e-240a-4be2-a7e0-9ff7c6b6513b"
    }
   },
   "outputs": [],
   "source": [
    "x = [4,67,2,10]\n",
    "x.sort()\n",
    "print(x)"
   ]
  },
  {
   "cell_type": "markdown",
   "metadata": {},
   "source": [
    "* Lists can be changed in place"
   ]
  },
  {
   "cell_type": "code",
   "execution_count": null,
   "metadata": {},
   "outputs": [],
   "source": [
    "x[2] = 41\n",
    "print(x)"
   ]
  },
  {
   "cell_type": "markdown",
   "metadata": {
    "nbpresent": {
     "id": "66cc2c4c-02bc-4034-8f59-597ad451b2e0"
    }
   },
   "source": [
    "# Tuples"
   ]
  },
  {
   "cell_type": "markdown",
   "metadata": {
    "nbpresent": {
     "id": "87590288-ada1-444a-a3ee-5ea52945e901"
    }
   },
   "source": [
    "* Tuples are like immutable lists, and in many usecases have they are used to store objects of different types"
   ]
  },
  {
   "cell_type": "code",
   "execution_count": null,
   "metadata": {
    "nbpresent": {
     "id": "7a18295b-ae75-49c4-84e1-04cf28c23227"
    }
   },
   "outputs": [],
   "source": [
    "x = (3.14, math.sqrt, 'John')\n",
    "x = 3.14, math.sqrt, 'John'   # You may skip the paranthesis\n",
    "print(x)"
   ]
  },
  {
   "cell_type": "markdown",
   "metadata": {
    "nbpresent": {
     "id": "306a0914-d80b-4021-915e-3cafd77621b6"
    }
   },
   "source": [
    "* Tuple-functions\n",
    "\n",
    "```python\n",
    "x.count    x.index\n",
    "```"
   ]
  },
  {
   "cell_type": "markdown",
   "metadata": {},
   "source": [
    "* Tuples can _not_ be changed in place"
   ]
  },
  {
   "cell_type": "code",
   "execution_count": null,
   "metadata": {},
   "outputs": [],
   "source": [
    "x[0] = 3.1415"
   ]
  },
  {
   "cell_type": "markdown",
   "metadata": {
    "nbpresent": {
     "id": "789e63df-44ad-4065-aca0-8d3959135cf7"
    }
   },
   "source": [
    "# Sets"
   ]
  },
  {
   "cell_type": "markdown",
   "metadata": {
    "nbpresent": {
     "id": "0c0b3165-d2f4-4fc6-b3e7-99dc0a3a874f"
    }
   },
   "source": [
    "* Sets are containers of unique items"
   ]
  },
  {
   "cell_type": "code",
   "execution_count": null,
   "metadata": {
    "nbpresent": {
     "id": "2c078693-7482-4482-a00a-9cfaed37eebf"
    }
   },
   "outputs": [],
   "source": [
    "x = {1, 2, 3, 2, 7, 2, 3, 2, 6}\n",
    "print(x)\n",
    "x.add(8)\n",
    "print(x)\n",
    "y = x.intersection({1, 4, 5, 6, 10})\n",
    "print(y)"
   ]
  },
  {
   "cell_type": "markdown",
   "metadata": {
    "nbpresent": {
     "id": "132d828b-8898-4e1d-8100-e21bcaab8ae0"
    }
   },
   "source": [
    "# Dictionaries"
   ]
  },
  {
   "cell_type": "markdown",
   "metadata": {
    "nbpresent": {
     "id": "5a052bc1-4e05-4159-9e55-04f1bea298f6"
    }
   },
   "source": [
    "* Dictionaries are very common in Python and the dictionary is an important data structure.\n",
    "\n",
    "* Dictionaries (often called `maps` in other languages) are mappings. `x[key] = value` represent the mapping $key \\to value$"
   ]
  },
  {
   "cell_type": "code",
   "execution_count": null,
   "metadata": {
    "nbpresent": {
     "id": "f0e8fb92-a559-4072-a0a7-9cf83543ff7c"
    }
   },
   "outputs": [],
   "source": [
    "x = {'John': 37, 'Sara': 25, 'Lisa': 45}\n",
    "print(x)"
   ]
  },
  {
   "cell_type": "markdown",
   "metadata": {
    "nbpresent": {
     "id": "856b088d-1bdb-444b-98b3-cf4df0ffde91"
    }
   },
   "source": [
    "It is very common to create an empty dictionary and add new entries as required (e.g. values are read from a file)"
   ]
  },
  {
   "cell_type": "code",
   "execution_count": null,
   "metadata": {
    "nbpresent": {
     "id": "c5188d50-cfca-42a3-b6b4-8f6b0f010c39"
    }
   },
   "outputs": [],
   "source": [
    "x = dict() # {} would also work  (similar functions as one would expect for list() set())\n",
    "x['John'] = 37\n",
    "x['Sara'] = 25\n",
    "x['Lisa'] = 45"
   ]
  },
  {
   "cell_type": "code",
   "execution_count": null,
   "metadata": {
    "nbpresent": {
     "id": "475d63fb-25c2-4a3f-8865-3a5e37e39989"
    }
   },
   "outputs": [],
   "source": [
    "print(x['John'])"
   ]
  },
  {
   "cell_type": "markdown",
   "metadata": {
    "nbpresent": {
     "id": "91e64bd5-9c87-42fa-b130-8a956573772b"
    }
   },
   "source": [
    "* Check for existance of keys using `in` and `not in`"
   ]
  },
  {
   "cell_type": "markdown",
   "metadata": {
    "nbpresent": {
     "id": "bb0aa0bf-f7c9-4dc2-b976-1353613ceaf1"
    }
   },
   "source": [
    "print( 'Lisa' in x )\n",
    "print( 'Jeff' not in x )"
   ]
  },
  {
   "cell_type": "markdown",
   "metadata": {
    "nbpresent": {
     "id": "dc7ec8dc-6a94-4810-920b-f3631caf0645"
    }
   },
   "source": [
    "* You get access the keys, values, or `(key,value)` as list-like type:"
   ]
  },
  {
   "cell_type": "code",
   "execution_count": null,
   "metadata": {
    "nbpresent": {
     "id": "14348082-2783-448a-9e5f-393abc14748b"
    }
   },
   "outputs": [],
   "source": [
    "print( x.keys() )\n",
    "print( x.values() )\n",
    "print( x.items() )"
   ]
  },
  {
   "cell_type": "markdown",
   "metadata": {
    "nbpresent": {
     "id": "cce2fa5a-39cc-407c-890d-7eb3f90c2894"
    }
   },
   "source": [
    "# Indexing"
   ]
  },
  {
   "cell_type": "markdown",
   "metadata": {
    "nbpresent": {
     "id": "9d62814c-1097-48b5-b6ee-9878fc4b6f88"
    }
   },
   "source": [
    "* Indexing uses the hard brackets []"
   ]
  },
  {
   "cell_type": "code",
   "execution_count": null,
   "metadata": {
    "nbpresent": {
     "id": "9f5c735f-4e9e-46cd-9f03-7cd0fac88bcd"
    }
   },
   "outputs": [],
   "source": [
    "x = [43, 10, 15]\n",
    "x[1]"
   ]
  },
  {
   "cell_type": "markdown",
   "metadata": {
    "nbpresent": {
     "id": "62798424-1e50-4366-8cf4-fc69e8962851"
    }
   },
   "source": [
    "* Note that indexing starts from 0!\n",
    "\n",
    "  Index measures distance from start."
   ]
  },
  {
   "cell_type": "markdown",
   "metadata": {
    "nbpresent": {
     "id": "f1d0e762-de11-4fb3-8ec0-32a3f4bddc4c"
    }
   },
   "source": [
    "* Negative indices wrap around and goes from the end"
   ]
  },
  {
   "cell_type": "code",
   "execution_count": null,
   "metadata": {
    "nbpresent": {
     "id": "9b5889b0-cf1e-4607-a893-74787e2bbd0d"
    }
   },
   "outputs": [],
   "source": [
    "x[-1]"
   ]
  },
  {
   "cell_type": "markdown",
   "metadata": {
    "nbpresent": {
     "id": "686d6c04-d1b3-484e-8885-f744ad703628"
    }
   },
   "source": [
    "* Slicing similar to that of Matlab, but in the order *`start:end:increment`*\n",
    "\n",
    "```\n",
    "Matlab         Python\n",
    "x(a:b:c)   ~   x[(a-1):c:b]\n",
    "end        ~   -1  or  nothing:\n",
    "```\n",
    "\n",
    "True for single index\n",
    "\n",
    "```\n",
    "x(end)     ~   x[-1]\n",
    "```\n",
    "\n",
    "But `-1+1 = 0` so when using slicing, the syntax is to leave it out\n",
    "\n",
    "```\n",
    "x(1:2:end) ~   x[0::2]\n",
    "x(7:end)   ~   x[6:]\n",
    "```"
   ]
  },
  {
   "cell_type": "code",
   "execution_count": null,
   "metadata": {
    "nbpresent": {
     "id": "f998df0f-370e-4998-902c-4bc00aa6bb56"
    }
   },
   "outputs": [],
   "source": [
    "x = ['my', 'short', 'list', 'of', 'strings']\n",
    "print('x         =', x)"
   ]
  },
  {
   "cell_type": "code",
   "execution_count": null,
   "metadata": {
    "nbpresent": {
     "id": "f998df0f-370e-4998-902c-4bc00aa6bb56"
    }
   },
   "outputs": [],
   "source": [
    "print('x[0:2]    =', x[0:2])"
   ]
  },
  {
   "cell_type": "code",
   "execution_count": null,
   "metadata": {
    "nbpresent": {
     "id": "f998df0f-370e-4998-902c-4bc00aa6bb56"
    }
   },
   "outputs": [],
   "source": [
    "print('x[1:]     =', x[1:])"
   ]
  },
  {
   "cell_type": "code",
   "execution_count": null,
   "metadata": {
    "nbpresent": {
     "id": "f998df0f-370e-4998-902c-4bc00aa6bb56"
    }
   },
   "outputs": [],
   "source": [
    "print('x[:1]     =', x[:1])"
   ]
  },
  {
   "cell_type": "code",
   "execution_count": null,
   "metadata": {
    "nbpresent": {
     "id": "f998df0f-370e-4998-902c-4bc00aa6bb56"
    }
   },
   "outputs": [],
   "source": [
    "print('x[:]      =', x[:])"
   ]
  },
  {
   "cell_type": "code",
   "execution_count": null,
   "metadata": {
    "nbpresent": {
     "id": "f998df0f-370e-4998-902c-4bc00aa6bb56"
    }
   },
   "outputs": [],
   "source": [
    "print('x[0::2]   =', x[0::2])"
   ]
  },
  {
   "cell_type": "code",
   "execution_count": null,
   "metadata": {
    "nbpresent": {
     "id": "f998df0f-370e-4998-902c-4bc00aa6bb56"
    }
   },
   "outputs": [],
   "source": [
    "print('x[0:2:3]  =', x[0:2:3])"
   ]
  },
  {
   "cell_type": "code",
   "execution_count": null,
   "metadata": {
    "nbpresent": {
     "id": "f998df0f-370e-4998-902c-4bc00aa6bb56"
    }
   },
   "outputs": [],
   "source": [
    "print('x[-1::-1] =', x[-1::-1])"
   ]
  },
  {
   "cell_type": "markdown",
   "metadata": {
    "nbpresent": {
     "id": "d892d3fc-aee5-4b85-8075-bb4799d4b6e2"
    }
   },
   "source": [
    "Note that ranges are given in a half open interval description, `a:b` $= [a,b)$"
   ]
  },
  {
   "cell_type": "markdown",
   "metadata": {
    "nbpresent": {
     "id": "3bd96380-143e-4261-8fd1-3c86c200e48b"
    }
   },
   "source": [
    "# Tuple unpacking"
   ]
  },
  {
   "cell_type": "markdown",
   "metadata": {
    "nbpresent": {
     "id": "13afa2ca-6eba-4f11-b4f7-56f2932fb8e5"
    }
   },
   "source": [
    "* A convenient syntax for splitting up all the components of a tuple"
   ]
  },
  {
   "cell_type": "code",
   "execution_count": null,
   "metadata": {
    "nbpresent": {
     "id": "77e486fc-e8d7-4ac1-9a25-bd79f596982f"
    }
   },
   "outputs": [],
   "source": [
    "x = (3.14, math.sqrt, 'John')\n",
    "a, b, c = x\n",
    "a, b, c = (3.14, math.sqrt, 'John')\n",
    "a, b, c = 3.14, math.sqrt, 'John'"
   ]
  },
  {
   "cell_type": "markdown",
   "metadata": {
    "nbpresent": {
     "id": "ddfd43f5-290f-478c-8ab7-41e852481355"
    }
   },
   "source": [
    "* Also works for lists, sets and dictionaries, though this usage is more rare"
   ]
  },
  {
   "cell_type": "code",
   "execution_count": null,
   "metadata": {
    "nbpresent": {
     "id": "c5c92359-0c4f-42a4-bdb0-a760ee843a96"
    }
   },
   "outputs": [],
   "source": [
    "x = ['Hello', 'Foo', 'World']\n",
    "a, b, c = x\n",
    "print(a, c)\n",
    "\n",
    "x = {1, 2, 2}\n",
    "a, b = x\n",
    "print(a, b)\n",
    "\n",
    "x = {'John': 37, 'Sara': 25, 'Lisa': 45}\n",
    "a, b, c = x.items()\n",
    "print(a, c)"
   ]
  },
  {
   "cell_type": "markdown",
   "metadata": {
    "nbpresent": {
     "id": "be87c361-ab5d-4e17-9e93-f255262c7a63"
    }
   },
   "source": [
    "## Deleting stuff from lists, dictionaries"
   ]
  },
  {
   "cell_type": "code",
   "execution_count": null,
   "metadata": {
    "nbpresent": {
     "id": "86ebe89c-c682-4a61-9db0-7798c75d88c8"
    }
   },
   "outputs": [],
   "source": [
    "x = [4,5,6,4,3,5,1]\n",
    "del x[3:]\n",
    "print(x)"
   ]
  },
  {
   "cell_type": "code",
   "execution_count": null,
   "metadata": {
    "nbpresent": {
     "id": "069497d3-c792-4c9f-a29d-e84954a21174"
    }
   },
   "outputs": [],
   "source": [
    "x = {'John': 37, 'Sara': 25, 'Lisa': 45}\n",
    "del x['John']\n",
    "print(x)"
   ]
  },
  {
   "cell_type": "markdown",
   "metadata": {
    "nbpresent": {
     "id": "1d612b6d-359e-47dd-9be5-7680dac53c32"
    }
   },
   "source": [
    "# Common operators\n",
    "### Binary operators"
   ]
  },
  {
   "cell_type": "code",
   "execution_count": null,
   "metadata": {
    "nbpresent": {
     "id": "1d904cf7-fb76-401f-ae48-3254a3f79eab"
    }
   },
   "outputs": [],
   "source": [
    "print('4+3 =', 4 + 3)\n",
    "print('4-3 =', 4 - 3)\n",
    "print('4*3 =', 4 * 3)\n",
    "print('4/3 =', 4 / 3)"
   ]
  },
  {
   "cell_type": "markdown",
   "metadata": {
    "nbpresent": {
     "id": "31d9fdb8-3470-4355-89cf-d2bf89ef84e5"
    }
   },
   "source": [
    "### Less obvious operators\n",
    " * `a ** b` $= a^b$\n",
    " * `a // b` $= \\lfloor a/b \\rfloor$\n",
    " * `a % b ` $= a \\,\\text{mod}\\, b$"
   ]
  },
  {
   "cell_type": "code",
   "execution_count": null,
   "metadata": {
    "nbpresent": {
     "id": "cc0992de-e3b8-4e65-8fdf-f7271c52ea0d"
    }
   },
   "outputs": [],
   "source": [
    "print('5**3 =', 5 ** 3)\n",
    "print('5//3 =', 5 // 3)\n",
    "print('5%3 =', 5 % 3)"
   ]
  },
  {
   "cell_type": "markdown",
   "metadata": {
    "nbpresent": {
     "id": "e3993eb7-0c2e-4667-9521-70e32c9b9783"
    }
   },
   "source": [
    "**Important!** For Python 2.x, then division (/) is integers division by default (i.e. // in Python 3.x). This can be changed in Python 2.x by doing\n",
    "```python\n",
    "from __future__ import division\n",
    "```"
   ]
  },
  {
   "cell_type": "markdown",
   "metadata": {
    "nbpresent": {
     "id": "88e4282b-9e78-4cb4-94af-674b40c8db95"
    }
   },
   "source": [
    "### Extended assignments"
   ]
  },
  {
   "cell_type": "code",
   "execution_count": null,
   "metadata": {
    "nbpresent": {
     "id": "ef4855fa-4b26-483b-92f3-2135e78e55f4"
    }
   },
   "outputs": [],
   "source": [
    "x = 1\n",
    "x += 2\n",
    "x *= 3\n",
    "x /= 4\n",
    "print(x)"
   ]
  },
  {
   "cell_type": "code",
   "execution_count": null,
   "metadata": {
    "nbpresent": {
     "id": "3bf25cdd-c2cc-41ca-b178-27d09608102c"
    }
   },
   "outputs": [],
   "source": [
    "x = 1\n",
    "x //= 2\n",
    "print(x)"
   ]
  },
  {
   "cell_type": "markdown",
   "metadata": {
    "nbpresent": {
     "id": "cc0140bf-95dc-4a86-98d2-a8cd3e9e6d41"
    }
   },
   "source": [
    "# Bitwise operators\n",
    "### Binary representations of number\n",
    "$$41 = 2^5 + 2^3 + 2^0 = 101001_b$$\n",
    "$$28 = 2^4 + 2^3 + 2^2 = 011100_b$$"
   ]
  },
  {
   "cell_type": "markdown",
   "metadata": {
    "nbpresent": {
     "id": "9fa9fa85-7c7c-48b0-8820-f4dd2b8ffaf2"
    }
   },
   "source": [
    "* Bit shifts"
   ]
  },
  {
   "cell_type": "code",
   "execution_count": null,
   "metadata": {
    "nbpresent": {
     "id": "a5b20ec7-17bc-49fd-979b-48a5efde90ca"
    }
   },
   "outputs": [],
   "source": [
    "print(\"41 >> 1 =\", 41 >> 1)\n",
    "print(\"41 << 1 =\", 41 << 1)"
   ]
  },
  {
   "cell_type": "markdown",
   "metadata": {
    "nbpresent": {
     "id": "c8c9f92c-78b0-4617-bd18-b248a46249c3"
    }
   },
   "source": [
    "We move the bits one step\n",
    "$$41 >> 1 = 101001_b >> 1 = 010100_b = 2^4 + 2^2 = 20$$\n",
    "which is equal to integer division by 2.\n",
    "\n",
    "In general\n",
    "`a >> b = a // (2**b)`"
   ]
  },
  {
   "cell_type": "markdown",
   "metadata": {
    "nbpresent": {
     "id": "17959093-8c07-4333-a2cc-5521219f873d"
    }
   },
   "source": [
    "* Bit and/or/xor"
   ]
  },
  {
   "cell_type": "code",
   "execution_count": null,
   "metadata": {
    "nbpresent": {
     "id": "7aeeddbe-8f25-434d-bc6d-15ac7bbb152d"
    }
   },
   "outputs": [],
   "source": [
    "print(\"41 & 28 =\", 41 & 28)\n",
    "print(\"41 | 28 =\", 41 | 28)\n",
    "print(\"41 ^ 28 =\", 41 ^ 28)"
   ]
  },
  {
   "cell_type": "markdown",
   "metadata": {
    "nbpresent": {
     "id": "42efe4a7-b516-491b-a2e6-feedc06bfe8e"
    }
   },
   "source": [
    "You probably won't be using any of these in the course."
   ]
  },
  {
   "cell_type": "markdown",
   "metadata": {
    "nbpresent": {
     "id": "6fb1584b-38cb-4892-9c42-8d8508b263d9"
    }
   },
   "source": [
    "# Operators acting on non-scalars\n",
    "\n",
    "  * Operators are **not** the same as in Matlab\n",
    "  * Different objects work differently with operators\n",
    "  * Strings"
   ]
  },
  {
   "cell_type": "code",
   "execution_count": null,
   "metadata": {
    "nbpresent": {
     "id": "be24e135-8968-4920-a1fb-ec28865f1eb7"
    }
   },
   "outputs": [],
   "source": [
    "'Hello World' * 3"
   ]
  },
  {
   "cell_type": "code",
   "execution_count": null,
   "metadata": {
    "nbpresent": {
     "id": "ca33a7d9-4db4-4d38-aa97-0df14f50afb0"
    }
   },
   "outputs": [],
   "source": [
    "'Hello' + ' ' + 'World'"
   ]
  },
  {
   "cell_type": "markdown",
   "metadata": {
    "nbpresent": {
     "id": "ad56b07a-5ec0-48ec-8842-f1eaa5b6ce66"
    }
   },
   "source": [
    "  * Lists (similar to strings)"
   ]
  },
  {
   "cell_type": "code",
   "execution_count": null,
   "metadata": {
    "nbpresent": {
     "id": "81ccf5ce-c7d0-4db3-a293-8f7b4aa48bfe"
    }
   },
   "outputs": [],
   "source": [
    "[1, 2, 3] * 3"
   ]
  },
  {
   "cell_type": "code",
   "execution_count": null,
   "metadata": {
    "nbpresent": {
     "id": "984d0948-0a78-4ca8-8441-fec641efa1a1"
    }
   },
   "outputs": [],
   "source": [
    "(1, 2, 3) + (4, 5)"
   ]
  },
  {
   "cell_type": "markdown",
   "metadata": {
    "nbpresent": {
     "id": "9e44b482-890c-4527-a2dc-7ca04fbd7f49"
    }
   },
   "source": [
    "  * NumPy arrays will overload operators and do different things!\n",
    "    Test in the interpreter whenever you are unsure."
   ]
  },
  {
   "cell_type": "markdown",
   "metadata": {
    "nbpresent": {
     "id": "282aca9b-a14c-430c-b79f-5475518bf07e"
    }
   },
   "source": [
    "# Indentation"
   ]
  },
  {
   "cell_type": "markdown",
   "metadata": {
    "nbpresent": {
     "id": "e061973c-28d4-446e-aa11-482662dee73c"
    }
   },
   "source": [
    "Indentation is **not** optional in Python.\n",
    "It determines control flow scopes!\n",
    "\n",
    "### Matlab\n",
    "```matlab\n",
    "if x\n",
    "    f();\n",
    "elseif y\n",
    "    g();\n",
    "end\n",
    "for x = y\n",
    "    disp('foo');\n",
    "end\n",
    "if q\n",
    "end\n",
    "```\n",
    "### Python\n",
    "```python\n",
    "if x:\n",
    "    f()\n",
    "elif y:\n",
    "    g()\n",
    "for x in y:\n",
    "    print('foo')\n",
    "if q:\n",
    "    pass # Here we need the no-operation operator \"pass\" or we'll get syntax errors\n",
    "```\n",
    "\n",
    "Sticking to 4 spaces per indentation is *strongly* encouraged."
   ]
  },
  {
   "cell_type": "markdown",
   "metadata": {
    "nbpresent": {
     "id": "ea9a0f53-b49f-4197-a04b-fbabdb9faaa2"
    }
   },
   "source": [
    "# Conditionals"
   ]
  },
  {
   "cell_type": "markdown",
   "metadata": {
    "nbpresent": {
     "id": "fc4d0512-e1b5-4352-a9da-39bd07bbf0f4"
    }
   },
   "source": [
    "* Works as expected"
   ]
  },
  {
   "cell_type": "code",
   "execution_count": null,
   "metadata": {
    "nbpresent": {
     "id": "cb46d6ee-ab7c-42b5-8bd2-8f66e9971b3a"
    }
   },
   "outputs": [],
   "source": [
    "if False:\n",
    "    print('Stuff here')\n",
    "elif True:\n",
    "    print('Lets print')\n",
    "    print('many lines')\n",
    "else:\n",
    "    print('Good bye!')"
   ]
  },
  {
   "cell_type": "markdown",
   "metadata": {
    "nbpresent": {
     "id": "3af93dab-d9e7-41ac-8654-e5d794867bf6"
    }
   },
   "source": [
    "* Conditionals can be used directly in assignments"
   ]
  },
  {
   "cell_type": "code",
   "execution_count": null,
   "metadata": {
    "nbpresent": {
     "id": "2e681014-0167-4b40-a35e-979c6fc049fa"
    }
   },
   "outputs": [],
   "source": [
    "a = 1\n",
    "x = 1 if a > 2 else 2\n",
    "print(x)"
   ]
  },
  {
   "cell_type": "markdown",
   "metadata": {
    "nbpresent": {
     "id": "57cd014b-370e-4214-9f39-5bdc379aaf26"
    }
   },
   "source": [
    "## Boolean operations"
   ]
  },
  {
   "cell_type": "markdown",
   "metadata": {
    "nbpresent": {
     "id": "068cb936-632d-4c88-b887-2eef4f3b4bd3"
    }
   },
   "source": [
    "* Operators"
   ]
  },
  {
   "cell_type": "code",
   "execution_count": null,
   "metadata": {
    "nbpresent": {
     "id": "dc0d2ee2-c7ce-47e0-a900-0ba88079fd39"
    }
   },
   "outputs": [],
   "source": [
    "print( 1 in [1,2,3], 7 not in (4,3,5), 'W' in 'World' )"
   ]
  },
  {
   "cell_type": "code",
   "execution_count": null,
   "metadata": {
    "nbpresent": {
     "id": "dc0d2ee2-c7ce-47e0-a900-0ba88079fd39"
    }
   },
   "outputs": [],
   "source": [
    "print( 6 != 5, 6 == 5 )"
   ]
  },
  {
   "cell_type": "code",
   "execution_count": null,
   "metadata": {
    "nbpresent": {
     "id": "dc0d2ee2-c7ce-47e0-a900-0ba88079fd39"
    }
   },
   "outputs": [],
   "source": [
    "print( 6 >= 5, 6 <= 5 )"
   ]
  },
  {
   "cell_type": "code",
   "execution_count": null,
   "metadata": {
    "nbpresent": {
     "id": "dc0d2ee2-c7ce-47e0-a900-0ba88079fd39"
    }
   },
   "outputs": [],
   "source": [
    "print( 6 >  5, 6 <  5 )"
   ]
  },
  {
   "cell_type": "code",
   "execution_count": null,
   "metadata": {
    "nbpresent": {
     "id": "50215bbd-e6e4-4f81-992a-2dd575e6aaa2"
    }
   },
   "outputs": [],
   "source": [
    "print( True or False )\n",
    "print( True and False )\n",
    "print( not True )"
   ]
  },
  {
   "cell_type": "markdown",
   "metadata": {
    "nbpresent": {
     "id": "196ac18c-0e67-47a7-ab7b-5e4165b6e7ad"
    }
   },
   "source": [
    "# For-loops"
   ]
  },
  {
   "cell_type": "markdown",
   "metadata": {
    "nbpresent": {
     "id": "79da2837-97a5-409f-b96c-365748c06543"
    }
   },
   "source": [
    "  * Looping over ranges.\n",
    "    Similar to Matlabs colon operator\n",
    "    \n",
    "    `range(a, b, c) ~ a : c : (b-1) `"
   ]
  },
  {
   "cell_type": "code",
   "execution_count": null,
   "metadata": {
    "nbpresent": {
     "id": "7217f000-6001-4abd-86aa-68b08e5b2d16"
    }
   },
   "outputs": [],
   "source": [
    "for i in range(5):\n",
    "    print(i, end=', ')"
   ]
  },
  {
   "cell_type": "code",
   "execution_count": null,
   "metadata": {
    "nbpresent": {
     "id": "c2e1155e-1221-4344-a1cc-5f78ea9209be"
    }
   },
   "outputs": [],
   "source": [
    "for i in range(1, 10, 2):\n",
    "    print(i, end=', ')"
   ]
  },
  {
   "cell_type": "markdown",
   "metadata": {
    "nbpresent": {
     "id": "5279c98a-411a-4529-a41a-5411d93d94a5"
    }
   },
   "source": [
    "* You should loop directly over values of iteratable containers!"
   ]
  },
  {
   "cell_type": "code",
   "execution_count": null,
   "metadata": {
    "nbpresent": {
     "id": "a3cba75b-8ba4-4b75-aa56-6a8cffba8bdb"
    }
   },
   "outputs": [],
   "source": [
    "foo = ['This', 'is', 'a', 'list']\n",
    "for x in foo:\n",
    "    print(x)"
   ]
  },
  {
   "cell_type": "markdown",
   "metadata": {
    "nbpresent": {
     "id": "f765ea2a-97d5-4d5c-97b5-3ab417d7c662"
    }
   },
   "source": [
    "* Looping over dictionaries loops over the keys"
   ]
  },
  {
   "cell_type": "code",
   "execution_count": null,
   "metadata": {
    "nbpresent": {
     "id": "519307f4-ba60-4cea-9f8c-6444e00cb21d"
    }
   },
   "outputs": [],
   "source": [
    "foo = {'John': 37, 'Sara': 25, 'Lisa': 45}\n",
    "for x in foo:\n",
    "    print(x)"
   ]
  },
  {
   "cell_type": "markdown",
   "metadata": {
    "nbpresent": {
     "id": "4cb486d0-ca12-4869-a26d-1413cb21ec1b"
    }
   },
   "source": [
    "* unless you specify otherwise"
   ]
  },
  {
   "cell_type": "code",
   "execution_count": null,
   "metadata": {
    "nbpresent": {
     "id": "585f756c-0169-4591-9c3b-906c31e20d9a"
    }
   },
   "outputs": [],
   "source": [
    "foo = {'John': 37, 'Sara': 25, 'Lisa': 45}\n",
    "for x in foo.items():\n",
    "    print(x)"
   ]
  },
  {
   "cell_type": "markdown",
   "metadata": {
    "nbpresent": {
     "id": "91fde302-e451-4e53-a618-faff74e89159"
    }
   },
   "source": [
    "* We can also directly unpack variables in for-loops"
   ]
  },
  {
   "cell_type": "code",
   "execution_count": null,
   "metadata": {
    "nbpresent": {
     "id": "4b5670f7-5d32-4926-8206-b95f2985160d"
    }
   },
   "outputs": [],
   "source": [
    "for x, y in foo.items():\n",
    "    print(x, \"is\", y, \"years old\")"
   ]
  },
  {
   "cell_type": "markdown",
   "metadata": {
    "nbpresent": {
     "id": "e80a29a0-a6ea-42a9-bf10-6da5c8d04def"
    }
   },
   "source": [
    "* If you need both the index, and the value, you can use the convenient `enumerate` function"
   ]
  },
  {
   "cell_type": "code",
   "execution_count": null,
   "metadata": {
    "nbpresent": {
     "id": "43cf1699-683b-4cf4-a667-1f81b4bcab4e"
    }
   },
   "outputs": [],
   "source": [
    "foo = ['This', 'is', 'a', 'list', 'of', 'strings']\n",
    "for i, x in enumerate(foo):\n",
    "    print('counter is', i, 'and value is', x)"
   ]
  },
  {
   "cell_type": "markdown",
   "metadata": {
    "nbpresent": {
     "id": "04df1a5e-d47b-4f54-bf0c-b1ce6c170830"
    }
   },
   "source": [
    "* If you need to loop over 2 sequences at the same time you can use the `zip` function that zips multiple lists into a sequence with tuples"
   ]
  },
  {
   "cell_type": "code",
   "execution_count": null,
   "metadata": {
    "nbpresent": {
     "id": "d82fcec6-d865-4bb6-98e8-c95320786f1f"
    }
   },
   "outputs": [],
   "source": [
    "x = [3, 7, 4, 9, 3, 0]\n",
    "y = \"qwerty\"\n",
    "for z in zip(x,y):\n",
    "    print(z)"
   ]
  },
  {
   "cell_type": "markdown",
   "metadata": {
    "nbpresent": {
     "id": "659430d7-449c-4516-9f2b-4c1b65bed921"
    }
   },
   "source": [
    "* For performance, `zip` doesn't actually create a list, but a sequence that dynamically constructs tuples"
   ]
  },
  {
   "cell_type": "code",
   "execution_count": null,
   "metadata": {
    "nbpresent": {
     "id": "f9c0b226-9ed4-493c-a9c4-76433e95bf2e"
    }
   },
   "outputs": [],
   "source": [
    "z = zip(x,y)\n",
    "print(z)\n",
    "print(z[0])"
   ]
  },
  {
   "cell_type": "markdown",
   "metadata": {
    "nbpresent": {
     "id": "6fd39378-4277-4fdd-ab4d-04995f4fa85b"
    }
   },
   "source": [
    "* If you really need the list, you can construct one, using `list`"
   ]
  },
  {
   "cell_type": "code",
   "execution_count": null,
   "metadata": {
    "nbpresent": {
     "id": "10678919-507f-413c-8bbd-c99e1de42f19"
    }
   },
   "outputs": [],
   "source": [
    "z = list(zip(x,y))\n",
    "print(z)"
   ]
  },
  {
   "cell_type": "markdown",
   "metadata": {
    "nbpresent": {
     "id": "4629b249-aa84-4aef-93da-e19615cc2212"
    }
   },
   "source": [
    "* You can loop over all types of sequences and containers; lists, sets, tuples, strings, files"
   ]
  },
  {
   "cell_type": "markdown",
   "metadata": {
    "nbpresent": {
     "id": "2a8e79d6-2281-4c2e-a88f-7fc2ee5ea437"
    }
   },
   "source": [
    "# While loops"
   ]
  },
  {
   "cell_type": "markdown",
   "metadata": {
    "nbpresent": {
     "id": "0cd1049a-6dd3-4e11-a2a3-e6512b263177"
    }
   },
   "source": [
    "* Not much to say about while loops\n",
    "```python\n",
    "while condition:\n",
    "    do_stuff\n",
    "```\n",
    "\n",
    "* `break` and `continue` work like they do in Matlab"
   ]
  },
  {
   "cell_type": "markdown",
   "metadata": {
    "nbpresent": {
     "id": "95b2bf9e-cad7-4d88-a9d4-853f74377748"
    }
   },
   "source": [
    "# Single statement, single line"
   ]
  },
  {
   "cell_type": "markdown",
   "metadata": {
    "nbpresent": {
     "id": "c8d43428-c426-4c9b-b5ae-0b9b679126c4"
    }
   },
   "source": [
    "* `if`, `while`, `for` etc. can all be written in a single line if there is just 1 statement inside the block. E.g."
   ]
  },
  {
   "cell_type": "code",
   "execution_count": null,
   "metadata": {
    "nbpresent": {
     "id": "ed04dbcc-d720-4a47-ab8a-ee98dcb5ad10"
    }
   },
   "outputs": [],
   "source": [
    "if 3 > 0 : print('It works!')\n",
    "for s in ['It', 'works', 'too'] : print(s, end=', ')"
   ]
  },
  {
   "cell_type": "markdown",
   "metadata": {
    "nbpresent": {
     "id": "62dedbf3-f160-4120-93a4-2c06fdb5f872"
    }
   },
   "source": [
    "# List comprehensions"
   ]
  },
  {
   "cell_type": "markdown",
   "metadata": {
    "nbpresent": {
     "id": "d32ccbfa-c450-400f-b140-bfc4118b36aa"
    }
   },
   "source": [
    "* A short, convenient and fast syntax for creating lists"
   ]
  },
  {
   "cell_type": "code",
   "execution_count": null,
   "metadata": {
    "nbpresent": {
     "id": "7acc652b-49b4-4c56-b9b2-de462a2b96e3"
    }
   },
   "outputs": [],
   "source": [
    "print( [ k**2 for k in range(5) ] )\n",
    "l = list()\n",
    "for i in range(5):\n",
    "    l.append(i**2)\n",
    "print(l)"
   ]
  },
  {
   "cell_type": "code",
   "execution_count": null,
   "metadata": {
    "nbpresent": {
     "id": "cf40277d-fd47-433d-85e3-4420b0705507"
    }
   },
   "outputs": [],
   "source": [
    "print( [ k**2 for k in range(10) if k % 2 != 0] )"
   ]
  },
  {
   "cell_type": "markdown",
   "metadata": {
    "nbpresent": {
     "id": "323dba81-cbd3-4ffa-bebf-ee8d62f589e5"
    }
   },
   "source": [
    "* Also works for sets and dictionaries"
   ]
  },
  {
   "cell_type": "code",
   "execution_count": null,
   "metadata": {
    "nbpresent": {
     "id": "4b7d0e4b-f9d5-485d-abe8-e6e27a976a8f"
    }
   },
   "outputs": [],
   "source": [
    "print(  { k**2 for k in range(10) } )"
   ]
  },
  {
   "cell_type": "code",
   "execution_count": null,
   "metadata": {
    "nbpresent": {
     "id": "e736e1bf-a2a1-4f80-a194-f357b9b31711"
    }
   },
   "outputs": [],
   "source": [
    "s = ['John', 'Jeff', 'Carl']\n",
    "print( { s[k]:k**2 for k in range(3) })"
   ]
  },
  {
   "cell_type": "markdown",
   "metadata": {
    "nbpresent": {
     "id": "0f891b6e-f177-4c96-ac46-398e7eb22392"
    }
   },
   "source": [
    "# Functions"
   ]
  },
  {
   "cell_type": "markdown",
   "metadata": {
    "nbpresent": {
     "id": "65e93857-4b62-4422-9c88-e39e650942f8"
    }
   },
   "source": [
    "## Subroutines"
   ]
  },
  {
   "cell_type": "markdown",
   "metadata": {
    "nbpresent": {
     "id": "f9776a5a-a689-4747-95ff-f552fbdc5ae2"
    }
   },
   "source": [
    "* A subroutine is simply as function without any return argument"
   ]
  },
  {
   "cell_type": "code",
   "execution_count": null,
   "metadata": {
    "nbpresent": {
     "id": "b61fa38e-2085-49b6-a644-6be07b4a867f"
    }
   },
   "outputs": [],
   "source": [
    "def printValue( x ):\n",
    "    print('The value is:', x)\n",
    "\n",
    "printValue( 13 )"
   ]
  },
  {
   "cell_type": "markdown",
   "metadata": {
    "nbpresent": {
     "id": "174e45b3-cb0a-43d5-bca6-3a3d40ffe0cc"
    }
   },
   "source": [
    "## Return values"
   ]
  },
  {
   "cell_type": "markdown",
   "metadata": {
    "nbpresent": {
     "id": "3d654074-2e70-44b5-ba3d-333006ac2823"
    }
   },
   "source": [
    "* Standard procedure for multiple return values is to use a tuple:"
   ]
  },
  {
   "cell_type": "code",
   "execution_count": null,
   "metadata": {
    "nbpresent": {
     "id": "3464805f-11ed-4129-9134-4f8cc86e9178"
    }
   },
   "outputs": [],
   "source": [
    "def multiReturnFunction(x):\n",
    "    return (x, x**2, x**3)\n",
    "# Or simply: return x, x**2, x**3"
   ]
  },
  {
   "cell_type": "code",
   "execution_count": null,
   "metadata": {
    "nbpresent": {
     "id": "b51a34cf-b9da-4c6d-9de7-c2e49165ecfc"
    }
   },
   "outputs": [],
   "source": [
    "x = multiReturnFunction(3)\n",
    "print('x =', x)\n",
    "a, b, c = multiReturnFunction(3)\n",
    "print('a =', a, '\\nb =', b, '\\nc =', c)\n",
    "d = multiReturnFunction(4)\n",
    "print('d =', d)"
   ]
  },
  {
   "cell_type": "markdown",
   "metadata": {
    "nbpresent": {
     "id": "46053d87-bfc6-48db-8181-c6bd2d956f12"
    }
   },
   "source": [
    "* Wrong number of return arguments will lead to errors."
   ]
  },
  {
   "cell_type": "code",
   "execution_count": null,
   "metadata": {
    "nbpresent": {
     "id": "360d4892-c666-4d72-a5a8-fa2913769a3c"
    }
   },
   "outputs": [],
   "source": [
    "a, b = multiReturnFunction(3)"
   ]
  },
  {
   "cell_type": "markdown",
   "metadata": {
    "nbpresent": {
     "id": "abcf7a48-1e20-4df6-894f-72f9aa215b9f"
    }
   },
   "source": [
    "## Optional arguments"
   ]
  },
  {
   "cell_type": "markdown",
   "metadata": {
    "nbpresent": {
     "id": "fc695328-6dc9-451b-855c-0f38cf8402ef"
    }
   },
   "source": [
    " * Has to be in the end of the list"
   ]
  },
  {
   "cell_type": "code",
   "execution_count": null,
   "metadata": {
    "nbpresent": {
     "id": "21202558-4dec-4e05-9625-7727aa1d1bfe"
    }
   },
   "outputs": [],
   "source": [
    "def myFunction(a, b=2, c=3):\n",
    "   return a + b**c"
   ]
  },
  {
   "cell_type": "markdown",
   "metadata": {
    "nbpresent": {
     "id": "c3944b51-8f5a-4dfa-bce4-d9971d2e26f0"
    }
   },
   "source": [
    "* These all give the same result (and will all have `a=1, b=2` and `c=3`)"
   ]
  },
  {
   "cell_type": "code",
   "execution_count": null,
   "metadata": {
    "nbpresent": {
     "id": "a7a718b2-fabd-4322-9103-195d13659414"
    }
   },
   "outputs": [],
   "source": [
    "print(myFunction(1, 2, 3))\n",
    "print(myFunction(1, 2))\n",
    "print(myFunction(1))"
   ]
  },
  {
   "cell_type": "markdown",
   "metadata": {
    "nbpresent": {
     "id": "d5acb9f4-aafd-49a9-bba7-12b29361cd9b"
    }
   },
   "source": [
    "## Named arguments"
   ]
  },
  {
   "cell_type": "markdown",
   "metadata": {
    "nbpresent": {
     "id": "6dcec127-93ec-4f29-9ed3-d9df551b91e3"
    }
   },
   "source": [
    " * Allows you set function parameters by name"
   ]
  },
  {
   "cell_type": "code",
   "execution_count": null,
   "metadata": {
    "nbpresent": {
     "id": "cc754f44-f935-47f2-91e3-2be433ee9857"
    }
   },
   "outputs": [],
   "source": [
    "print(myFunction(a=1, b=2, c=3))\n",
    "print(myFunction(  1, b=2, c=3))\n",
    "print(myFunction(  1,   2, c=3))\n",
    "print(myFunction(  1, c=3, b=2))\n",
    "print(myFunction(  1, b=2))\n",
    "print(myFunction(  1, c=3))\n",
    "print(myFunction(a=1, c=3))"
   ]
  },
  {
   "cell_type": "markdown",
   "metadata": {
    "nbpresent": {
     "id": "a6ffcfbd-dd82-4dc5-8886-f3df350d6402"
    }
   },
   "source": [
    "* Parameters without a name **must** come before named parameters!"
   ]
  },
  {
   "cell_type": "code",
   "execution_count": null,
   "metadata": {
    "nbpresent": {
     "id": "ef11b9f2-7fe7-4e52-820f-11106410dc50"
    }
   },
   "outputs": [],
   "source": [
    "myFunction(a=1, 2, 3) # Not OK!\n",
    "myFunction(1, b=2, 3) # Not OK!"
   ]
  },
  {
   "cell_type": "markdown",
   "metadata": {
    "nbpresent": {
     "id": "e67826a7-b400-4030-8912-8300c8edddb3"
    }
   },
   "source": [
    "## Argument expansion"
   ]
  },
  {
   "cell_type": "markdown",
   "metadata": {
    "nbpresent": {
     "id": "facd2cf0-968e-41aa-b0d3-5547680db3a4"
    }
   },
   "source": [
    "* Lists, tuples and dictionaries can be expanded to function arguments conveniently"
   ]
  },
  {
   "cell_type": "code",
   "execution_count": null,
   "metadata": {
    "nbpresent": {
     "id": "5682a39a-778d-4971-b74f-3d222bfb99f4"
    }
   },
   "outputs": [],
   "source": [
    "def foo(a, b, c):\n",
    "    return a*b**c"
   ]
  },
  {
   "cell_type": "code",
   "execution_count": null,
   "metadata": {
    "nbpresent": {
     "id": "be7e55f5-e67d-4178-8bbf-5a644d8c7312"
    }
   },
   "outputs": [],
   "source": [
    "x = [2, 3, 4]\n",
    "print(  foo(x[0], x[1], x[2])  )\n",
    "print(  foo(*x)  ) # Uses: \"a, b, c = x\""
   ]
  },
  {
   "cell_type": "markdown",
   "metadata": {
    "nbpresent": {
     "id": "69cdef07-6c0d-472a-8e3c-99ce0cb6c1f3"
    }
   },
   "source": [
    "## Function scope and local variables"
   ]
  },
  {
   "cell_type": "code",
   "execution_count": null,
   "metadata": {
    "nbpresent": {
     "id": "92b1df99-4a26-498d-8521-5c17974fe960"
    }
   },
   "outputs": [],
   "source": [
    "c = 123\n",
    "def foo_a(a):\n",
    "    return c + a\n",
    "\n",
    "def foo_b(a):\n",
    "    c = 14 # This will be a new, local, variable (different from c above)\n",
    "    return c + a\n",
    "\n",
    "def foo_c(a):\n",
    "    c += 17 # This won't work, you must make your own local variable (functions are not allowed to modify )\n",
    "    return c + a"
   ]
  },
  {
   "cell_type": "code",
   "execution_count": null,
   "metadata": {
    "nbpresent": {
     "id": "95bbde2a-eb07-47c3-bb8d-09cc9cb4855f"
    }
   },
   "outputs": [],
   "source": [
    "print(foo_a(17))\n",
    "print(foo_b(17))\n",
    "print(c) # The variable c outside the function is unchanged"
   ]
  },
  {
   "cell_type": "code",
   "execution_count": null,
   "metadata": {
    "nbpresent": {
     "id": "cd6660a8-494f-486b-ac69-742b6c71b4eb"
    }
   },
   "outputs": [],
   "source": [
    "print(foo_c(17))"
   ]
  },
  {
   "cell_type": "markdown",
   "metadata": {
    "nbpresent": {
     "id": "bb12d5e8-acf5-449a-af85-1c100801b007"
    }
   },
   "source": [
    "# Anonymous functions (lambda functions)"
   ]
  },
  {
   "cell_type": "markdown",
   "metadata": {
    "nbpresent": {
     "id": "bc4f6119-669b-4a3a-a286-64eed2eb7ff6"
    }
   },
   "source": [
    "* Like Matlabs anonymous functions `@(x) x^2` we can also create functions inline"
   ]
  },
  {
   "cell_type": "code",
   "execution_count": null,
   "metadata": {
    "nbpresent": {
     "id": "f049bfb2-c69e-46ba-955e-a5e8c38c9edb"
    }
   },
   "outputs": [],
   "source": [
    "def axpy(a, x, y):  # axpy is a standard name for a*x + y (common in lin.alg. packages)\n",
    "    return a*x + y"
   ]
  },
  {
   "cell_type": "code",
   "execution_count": null,
   "metadata": {
    "nbpresent": {
     "id": "a5d7e7ea-0fdd-4eba-b1f2-b60282bb2c83"
    }
   },
   "outputs": [],
   "source": [
    "f = lambda a, x, y : a*x + y"
   ]
  },
  {
   "cell_type": "code",
   "execution_count": null,
   "metadata": {
    "nbpresent": {
     "id": "8a1493ee-1248-49da-9c25-db203f7f9e90"
    }
   },
   "outputs": [],
   "source": [
    "print( axpy(2, 3, 4) )\n",
    "print( f(2, 3, 4) )"
   ]
  },
  {
   "cell_type": "markdown",
   "metadata": {
    "nbpresent": {
     "id": "59bdd306-033a-41ff-a393-1dbd53d006e2"
    }
   },
   "source": [
    "* These are essentially identical except for the way they were constructed"
   ]
  },
  {
   "cell_type": "code",
   "execution_count": null,
   "metadata": {
    "nbpresent": {
     "id": "fb5cb1a9-9cde-439e-90b4-66ad98bedeef"
    }
   },
   "outputs": [],
   "source": [
    "type(f) == type(axpy)"
   ]
  },
  {
   "cell_type": "markdown",
   "metadata": {
    "nbpresent": {
     "id": "fca5b83e-ef0b-4564-bdb7-b43781de9fb4"
    }
   },
   "source": [
    "# References and copies"
   ]
  },
  {
   "cell_type": "markdown",
   "metadata": {
    "nbpresent": {
     "id": "9480d822-55e3-4628-99db-4efe9fc9acbb"
    }
   },
   "source": [
    "* **Assignments only rebinds the reference in Python!**"
   ]
  },
  {
   "cell_type": "markdown",
   "metadata": {
    "nbpresent": {
     "id": "d7614560-7c48-40e8-9a79-2c2f3dc097a2"
    }
   },
   "source": [
    "What's going on here?"
   ]
  },
  {
   "cell_type": "code",
   "execution_count": null,
   "metadata": {
    "nbpresent": {
     "id": "675a2422-3452-4017-b03e-663001e5b7fb"
    }
   },
   "outputs": [],
   "source": [
    "x = [1, 2, 3]   # Create a list object and binds x to that object.\n",
    "y = x           # Binds y to that same object x\n",
    "y += [4, 5]     # +=  for lists means \"append to list\"\n",
    "print(x)"
   ]
  },
  {
   "cell_type": "code",
   "execution_count": null,
   "metadata": {
    "nbpresent": {
     "id": "7dfd6ab5-6ca3-41ae-bbd5-cd530121bdf0"
    }
   },
   "outputs": [],
   "source": [
    "x = [1, 2, 3]   # Create a list object and bind x to that object.\n",
    "y = x           # Bind y to that same object\n",
    "y = y + [4, 5]  # Create a new object from the list, use + list operation and re-bind y to that new object\n",
    "print(x)"
   ]
  },
  {
   "cell_type": "code",
   "execution_count": null,
   "metadata": {
    "nbpresent": {
     "id": "2e339147-6d8b-4a8b-acf1-9ccbe014ba05"
    }
   },
   "outputs": [],
   "source": [
    "x = [1, 2, 3]    # Create a list object and bind x to that object\n",
    "z = (x, x)       # Create a tuple object which contains references which are bound to the same object\n",
    "print('1:', z)\n",
    "x += [4, 5]      # Append to list\n",
    "print('2:', z)\n",
    "x = [7, 8]       # Rebind name x to a new list\n",
    "print('3:', z)"
   ]
  },
  {
   "cell_type": "markdown",
   "metadata": {
    "nbpresent": {
     "id": "ab4d260a-8b5a-4fe1-aab0-c4cad60d2082"
    }
   },
   "source": [
    "Well, the variable `z` has actually not changed (tuples are immutable). It's still pointing to the same two list-objects."
   ]
  },
  {
   "cell_type": "code",
   "execution_count": null,
   "metadata": {
    "nbpresent": {
     "id": "5bf167fd-a4bb-42c6-ad49-80070e5d2a38"
    }
   },
   "outputs": [],
   "source": [
    "x = [1, 2, 3]\n",
    "y = [x, x, [7, 8, 9]]\n",
    "print(y)"
   ]
  },
  {
   "cell_type": "markdown",
   "metadata": {
    "nbpresent": {
     "id": "ec95a968-20d7-4d13-a4ee-f38b6f1338de"
    }
   },
   "source": [
    "What will happen if we do:"
   ]
  },
  {
   "cell_type": "code",
   "execution_count": null,
   "metadata": {
    "nbpresent": {
     "id": "08fa3aeb-0f82-4618-8835-02e07cdaf0ee"
    }
   },
   "outputs": [],
   "source": [
    "y[0] = [4, 5, 6]\n",
    "print(x)\n",
    "print(y)"
   ]
  },
  {
   "cell_type": "markdown",
   "metadata": {
    "nbpresent": {
     "id": "c726ef50-d436-4424-9dd5-5de735c7e682"
    }
   },
   "source": [
    "The equal sign is the \"rebind variable\" operation!"
   ]
  },
  {
   "cell_type": "markdown",
   "metadata": {
    "nbpresent": {
     "id": "9f551a16-537c-44ec-8c70-8ed689b42e7e"
    }
   },
   "source": [
    "To really make a copy, use the expansion variable `:`, or the `copy()` method"
   ]
  },
  {
   "cell_type": "code",
   "execution_count": null,
   "metadata": {
    "nbpresent": {
     "id": "0da078a5-725f-4846-9b34-2bffd971796b"
    }
   },
   "outputs": [],
   "source": [
    "x = [1, 2, 3]\n",
    "y = x[:]\n",
    "z = x.copy()\n",
    "y += [4, 5]\n",
    "z += [6, 7]\n",
    "print(x)\n",
    "print(y)\n",
    "print(z)"
   ]
  },
  {
   "cell_type": "markdown",
   "metadata": {
    "nbpresent": {
     "id": "0f5f7bc0-e0b9-4918-bd38-0760ed1629a1"
    }
   },
   "source": [
    "## Functions and references"
   ]
  },
  {
   "cell_type": "markdown",
   "metadata": {
    "nbpresent": {
     "id": "47386399-54a1-4c46-b967-52b6beb78a60"
    }
   },
   "source": [
    "* Same behavior with references when it comes to function arguments"
   ]
  },
  {
   "cell_type": "code",
   "execution_count": null,
   "metadata": {
    "nbpresent": {
     "id": "d32c962a-6256-4530-80dd-37d3d67700cd"
    }
   },
   "outputs": [],
   "source": [
    "def foo(x):\n",
    "    x[0]= 42\n",
    "\n",
    "y = [1,2,3]\n",
    "foo(y)      # This means foo(x = y), and x = y behaves as described earlier\n",
    "print(y)"
   ]
  },
  {
   "cell_type": "markdown",
   "metadata": {
    "nbpresent": {
     "id": "b12f28e3-d895-4f70-a459-b423341a8c15"
    }
   },
   "source": [
    "* The equal sign = is variable name rebinding, it doesn't modify the object that x was bound to previously."
   ]
  },
  {
   "cell_type": "code",
   "execution_count": null,
   "metadata": {
    "nbpresent": {
     "id": "6197656d-c880-4fb6-9ca2-73d390ae4611"
    }
   },
   "outputs": [],
   "source": [
    "def foo(x):\n",
    "    x = [4,5,6] \n",
    "\n",
    "y = [1,2,3]\n",
    "foo(y)\n",
    "print(y)"
   ]
  },
  {
   "cell_type": "code",
   "execution_count": null,
   "metadata": {
    "nbpresent": {
     "id": "956e7cbc-cdc5-4c4f-8a73-7958a8aed646"
    }
   },
   "outputs": [],
   "source": []
  }
 ],
 "metadata": {
  "anaconda-cloud": {},
  "kernelspec": {
   "display_name": "Python 3",
   "language": "python",
   "name": "python3"
  },
  "language_info": {
   "codemirror_mode": {
    "name": "ipython",
    "version": 3
   },
   "file_extension": ".py",
   "mimetype": "text/x-python",
   "name": "python",
   "nbconvert_exporter": "python",
   "pygments_lexer": "ipython3",
   "version": "3.7.6"
  }
 },
 "nbformat": 4,
 "nbformat_minor": 1
}
