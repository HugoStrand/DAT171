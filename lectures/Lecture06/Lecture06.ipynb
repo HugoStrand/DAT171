{
 "cells": [
  {
   "cell_type": "code",
   "execution_count": null,
   "metadata": {
    "slideshow": {
     "slide_type": "slide"
    }
   },
   "outputs": [],
   "source": [
    "import importlib\n",
    "import numpy as np\n",
    "\n",
    "# Use a temporary directory, if it already exists then clean it first\n",
    "\n",
    "%rm -rf temporary_work_directory \n",
    "%mkdir temporary_work_directory\n",
    "%cd temporary_work_directory\n",
    "%pwd"
   ]
  },
  {
   "cell_type": "markdown",
   "metadata": {
    "slideshow": {
     "slide_type": "slide"
    }
   },
   "source": [
    "# Lecture 6: Writing documentation and libraries"
   ]
  },
  {
   "cell_type": "markdown",
   "metadata": {
    "slideshow": {
     "slide_type": "fragment"
    }
   },
   "source": [
    "This lecture treats how to\n",
    "- comment and document code\n",
    "- create Python libraries \n",
    "- use namespaces and scope\n",
    "\n",
    "Reading material\n",
    "\n",
    "- The book, Ref. [1], does not cover these topics in a single chapter,<br> \n",
    "  in particular it does **not** treat the standard Python documentation style.<br>\n",
    "  **Scope** is however covered in Sec. 5.8.\n",
    "- In the online material, Ref. [2], treats module creation in Ch. 6.4."
   ]
  },
  {
   "cell_type": "markdown",
   "metadata": {
    "slideshow": {
     "slide_type": "slide"
    }
   },
   "source": [
    "# Commenting code"
   ]
  },
  {
   "cell_type": "markdown",
   "metadata": {
    "slideshow": {
     "slide_type": "fragment"
    }
   },
   "source": [
    "## Why?\n",
    "- For reading your own code\n",
    "- For others to read you code"
   ]
  },
  {
   "cell_type": "markdown",
   "metadata": {
    "slideshow": {
     "slide_type": "fragment"
    }
   },
   "source": [
    "## How?\n",
    "- Any text after `#` in the code is a comment"
   ]
  },
  {
   "cell_type": "code",
   "execution_count": null,
   "metadata": {
    "slideshow": {
     "slide_type": "-"
    }
   },
   "outputs": [],
   "source": [
    "# This is a comment"
   ]
  },
  {
   "cell_type": "code",
   "execution_count": null,
   "metadata": {},
   "outputs": [],
   "source": [
    "print('This will be executed.') # This won't be executed"
   ]
  },
  {
   "cell_type": "code",
   "execution_count": null,
   "metadata": {
    "slideshow": {
     "slide_type": "fragment"
    }
   },
   "outputs": [],
   "source": [
    "# This will not\n",
    "be a good comment\n",
    "for anyone in your team"
   ]
  },
  {
   "cell_type": "code",
   "execution_count": null,
   "metadata": {
    "slideshow": {
     "slide_type": "fragment"
    }
   },
   "outputs": [],
   "source": [
    "# This will be a\n",
    "# much better comment\n",
    "# for everyone in your team!"
   ]
  },
  {
   "cell_type": "markdown",
   "metadata": {
    "slideshow": {
     "slide_type": "subslide"
    }
   },
   "source": [
    "# Comments: Worst practices\n",
    "\n",
    "- Make your comments D.R.Y.\n",
    "- **D**on't **R**epeat **Y**ourself\n",
    "- I.e. avoid redundant comments on code that explains itself"
   ]
  },
  {
   "cell_type": "markdown",
   "metadata": {
    "slideshow": {
     "slide_type": "fragment"
    }
   },
   "source": [
    "Examlpe:\n",
    "```python\n",
    "return b # Returns b\n",
    "```"
   ]
  },
  {
   "cell_type": "markdown",
   "metadata": {
    "slideshow": {
     "slide_type": "fragment"
    }
   },
   "source": [
    "This is a typical W.E.T. comment, meaning\n",
    "- you **W**rote **E**verything **T**wice, \n",
    "- or more cynically *Wasted Everyones Time*."
   ]
  },
  {
   "cell_type": "markdown",
   "metadata": {
    "slideshow": {
     "slide_type": "subslide"
    }
   },
   "source": [
    "## Example\n",
    "\n",
    "How can we make the comments in this code more DRY?"
   ]
  },
  {
   "cell_type": "code",
   "execution_count": null,
   "metadata": {},
   "outputs": [],
   "source": [
    "weights = np.array([85, 74, 56])        # weight in kg\n",
    "heights = np.array([1.89, 1.77, 1.63])  # height in m\n",
    "\n",
    "# create BMI array: BMI = mass / length^2\n",
    "bmi = weights / heights**2\n",
    "\n",
    "print(bmi)"
   ]
  },
  {
   "cell_type": "markdown",
   "metadata": {
    "slideshow": {
     "slide_type": "fragment"
    }
   },
   "source": [
    "Here is a DRYer version"
   ]
  },
  {
   "cell_type": "code",
   "execution_count": null,
   "metadata": {
    "slideshow": {
     "slide_type": "-"
    }
   },
   "outputs": [],
   "source": [
    "weights = np.array([85, 74, 56])        # unit: kg\n",
    "heights = np.array([1.89, 1.77, 1.63])  # unit: m\n",
    "\n",
    "bmi = weights / heights**2 # Body Mass Index, unit: kg/m^2\n",
    "\n",
    "print(bmi)"
   ]
  },
  {
   "cell_type": "markdown",
   "metadata": {
    "slideshow": {
     "slide_type": "subslide"
    }
   },
   "source": [
    "## Example\n",
    "\n",
    "- Good naming, requires less comments\n",
    "\n",
    "- What does this code do?\n",
    "- How does it do it?\n",
    "\n",
    "\n",
    "- How could it be made more\n",
    "  - easy to understand, and\n",
    "  - easy to read?"
   ]
  },
  {
   "cell_type": "code",
   "execution_count": null,
   "metadata": {},
   "outputs": [],
   "source": [
    "def chk_pr(i): # Check if i is a prime number\n",
    "    pf = True # Initial assumption True\n",
    "    for d in range(2, i): # Check for all i from 2 to d\n",
    "        if i % d == 0: pf = False # is i evenly divisible by d?\n",
    "    return pf # return pf"
   ]
  },
  {
   "cell_type": "markdown",
   "metadata": {
    "slideshow": {
     "slide_type": "fragment"
    }
   },
   "source": [
    "Suggested cleanup and renaming:"
   ]
  },
  {
   "cell_type": "code",
   "execution_count": null,
   "metadata": {
    "slideshow": {
     "slide_type": "-"
    }
   },
   "outputs": [],
   "source": [
    "def is_prime(value):\n",
    "    prime_flag = True\n",
    "    for divisor in range(2, value): # Check all relevant smaller integers\n",
    "        if value % divisor == 0:    # If evenly divisible, not a prime\n",
    "            prime_flag = False\n",
    "    return prime_flag"
   ]
  },
  {
   "cell_type": "markdown",
   "metadata": {
    "slideshow": {
     "slide_type": "slide"
    }
   },
   "source": [
    "# Documenting code"
   ]
  },
  {
   "cell_type": "markdown",
   "metadata": {
    "slideshow": {
     "slide_type": "fragment"
    }
   },
   "source": [
    "An important part of writing code is to **document** it, \n",
    "- both to describe what individual part (loops, sections of a function etc.) does, \n",
    "- but also to provide documentation on \n",
    "  - what each component does, and \n",
    "  - how it can be used."
   ]
  },
  {
   "cell_type": "markdown",
   "metadata": {
    "slideshow": {
     "slide_type": "fragment"
    }
   },
   "source": [
    "The goal is to create\n",
    "- **readable**, and\n",
    "- **usable** code."
   ]
  },
  {
   "cell_type": "markdown",
   "metadata": {
    "slideshow": {
     "slide_type": "subslide"
    }
   },
   "source": [
    "## Python docstrings\n",
    "\n",
    "In Python code and documentation are written together\n",
    "- Python **docstrings** is a syntax for embedding docmentation in code\n",
    "- **Docstrings** are strings written\n",
    "  - in the beginning of a file \n",
    "  - or just after a function/class declaration."
   ]
  },
  {
   "cell_type": "markdown",
   "metadata": {
    "slideshow": {
     "slide_type": "fragment"
    }
   },
   "source": [
    "## Example: Function docstrings"
   ]
  },
  {
   "cell_type": "code",
   "execution_count": null,
   "metadata": {},
   "outputs": [],
   "source": [
    "def is_prime(value):\n",
    "\n",
    "    \"\"\"Checks if the input `value` is a prime number. \"\"\" # <= This is a docstring!\n",
    "    \n",
    "    prime_flag = True\n",
    "    for divisor in range(2, value): # Check all relevant smaller integers\n",
    "        if value % divisor == 0:    # If evenly divisible, not a prime\n",
    "            prime_flag = False\n",
    "    return prime_flag"
   ]
  },
  {
   "cell_type": "code",
   "execution_count": null,
   "metadata": {},
   "outputs": [],
   "source": [
    "is_prime(3)"
   ]
  },
  {
   "cell_type": "code",
   "execution_count": null,
   "metadata": {},
   "outputs": [],
   "source": [
    "is_prime(9)"
   ]
  },
  {
   "cell_type": "markdown",
   "metadata": {
    "slideshow": {
     "slide_type": "fragment"
    }
   },
   "source": [
    "When we have provided a **docstring** to an object in Python, \n",
    "- it becomes part of the documentation, \n",
    "- and is available using `help(...)`"
   ]
  },
  {
   "cell_type": "code",
   "execution_count": null,
   "metadata": {},
   "outputs": [],
   "source": [
    "help(is_prime)"
   ]
  },
  {
   "cell_type": "markdown",
   "metadata": {
    "slideshow": {
     "slide_type": "subslide"
    }
   },
   "source": [
    "## Documenting Functions"
   ]
  },
  {
   "cell_type": "markdown",
   "metadata": {},
   "source": [
    "The function docscring is the place to document the function's\n",
    "- purpose,\n",
    "- input variables,\n",
    "- return values, and\n",
    "- even give usage examples.\n",
    "\n",
    "The syntax used in the docstring is not fixed by the Python standard."
   ]
  },
  {
   "cell_type": "markdown",
   "metadata": {
    "slideshow": {
     "slide_type": "fragment"
    }
   },
   "source": [
    "However, there specific syntaxes for generating nice documentation\n",
    "- **Sphinx**, complete documentation solution used by most large Python packages\n",
    "- **PyDoc**, simple tool part of the Python Standard Library\n",
    "- **PyCharm**, can also provide type checking"
   ]
  },
  {
   "cell_type": "markdown",
   "metadata": {
    "slideshow": {
     "slide_type": "subslide"
    }
   },
   "source": [
    "## Docstring formatting\n",
    "\n",
    "Three competing docstring formatting standards\n",
    "- [reStructuredText](https://thomas-cokelaer.info/tutorials/sphinx/docstring_python.html) (We will use this)\n",
    "- [The NumPy docstring format](https://numpydoc.readthedocs.io/en/latest/format.html) (My favourite)\n",
    "- [The Google Python docstring format](http://google.github.io/styleguide/pyguide.html#38-comments-and-docstrings)\n",
    "\n",
    "For general info on docstrings, see:\n",
    "- https://sphinx-rtd-tutorial.readthedocs.io/en/latest/docstrings.html\n",
    "- https://www.python.org/dev/peps/pep-0257/"
   ]
  },
  {
   "cell_type": "markdown",
   "metadata": {
    "slideshow": {
     "slide_type": "subslide"
    }
   },
   "source": [
    "## Example: Function docstrings (reStructuredText)"
   ]
  },
  {
   "cell_type": "code",
   "execution_count": null,
   "metadata": {
    "slideshow": {
     "slide_type": "-"
    }
   },
   "outputs": [],
   "source": [
    "def is_prime(value):\n",
    "    \"\"\"Checks if the input `value` is a prime number.\n",
    "    \n",
    "    :param value: Integer whose prime number status should be checked.\n",
    "    :type value: int, float\n",
    "    \n",
    "    :return: `True` if `value` is a prime number, else `False`.\n",
    "    :rtype: bool\n",
    "    \"\"\"\n",
    "    prime_flag = True\n",
    "    for divisor in range(2, value): # Check all relevant smaller integers\n",
    "        if value % divisor == 0:    # If evenly divisible, not a prime\n",
    "            prime_flag = False\n",
    "    return prime_flag"
   ]
  },
  {
   "cell_type": "code",
   "execution_count": null,
   "metadata": {
    "scrolled": true
   },
   "outputs": [],
   "source": [
    "help(is_prime)"
   ]
  },
  {
   "cell_type": "markdown",
   "metadata": {
    "slideshow": {
     "slide_type": "subslide"
    }
   },
   "source": [
    "## The `typing` module"
   ]
  },
  {
   "cell_type": "markdown",
   "metadata": {},
   "source": [
    "- The `typing` module adds partial type support to Python\n",
    "- Available since Python v3.5 \n",
    "- New language syntax to specify type \"hints\" by annotating functions\n",
    "- The hints are not enforced by Python, but there are 3rd party tools that can"
   ]
  },
  {
   "cell_type": "markdown",
   "metadata": {
    "slideshow": {
     "slide_type": "fragment"
    }
   },
   "source": [
    "- The `typing` module includes type objects for annotating function parameters.\n",
    "- This includes aliases for `List`, `Dict` etc., \n",
    "- general sequence types using `Iterable`, and\n",
    "- the catch-all type `Any` and \n",
    "- many many more.\n",
    "\n",
    "Have a look at [the documentation of `typing`](https://docs.python.org/3/library/typing.html) for more info."
   ]
  },
  {
   "cell_type": "markdown",
   "metadata": {
    "slideshow": {
     "slide_type": "subslide"
    }
   },
   "source": [
    "## Example: Type hints\n",
    "\n",
    "Lets see how the `is_prime` function looks when adding type hits."
   ]
  },
  {
   "cell_type": "code",
   "execution_count": null,
   "metadata": {
    "slideshow": {
     "slide_type": "-"
    }
   },
   "outputs": [],
   "source": [
    "import typing\n",
    "\n",
    "def is_prime(value: typing.Union[int, float]) -> bool:\n",
    "    \"\"\"Checks if the input `value` is a prime number.\n",
    "    \n",
    "    :param value: Integer whose prime number status should be checked.    \n",
    "    :return: `True` if `value` is a prime number, else `False`.\n",
    "    \"\"\"\n",
    "    prime_flag = True\n",
    "    for divisor in range(2, value): # Check all relevant smaller integers\n",
    "        if value % divisor == 0:    # If evenly divisible, not a prime\n",
    "            prime_flag = False\n",
    "    return prime_flag"
   ]
  },
  {
   "cell_type": "code",
   "execution_count": null,
   "metadata": {},
   "outputs": [],
   "source": [
    "help(is_prime)"
   ]
  },
  {
   "cell_type": "markdown",
   "metadata": {
    "slideshow": {
     "slide_type": "fragment"
    }
   },
   "source": [
    "What happens if we use an input varaible that is **not** of `int` or `float` type?"
   ]
  },
  {
   "cell_type": "code",
   "execution_count": null,
   "metadata": {},
   "outputs": [],
   "source": [
    "is_prime(\"Hello world!\")"
   ]
  },
  {
   "cell_type": "markdown",
   "metadata": {
    "slideshow": {
     "slide_type": "subslide"
    }
   },
   "source": [
    "## Python documentation and PyCharm"
   ]
  },
  {
   "cell_type": "markdown",
   "metadata": {},
   "source": [
    "PyCharm will let you automatically insert skeletons for documentation on functions etc.\n",
    "\n",
    "Lets try to create and verify our simple example above using PyCharm!\n",
    "\n",
    "To have PyCharm help you with adding type hints, mark the parameter or function name you want to add hints for and press ALT+Enter (Linux or Windows) or Option+Enter (Mac), and then choose the hint method you want to use from the menu that pops up."
   ]
  },
  {
   "cell_type": "markdown",
   "metadata": {
    "slideshow": {
     "slide_type": "slide"
    }
   },
   "source": [
    "# Extending Python"
   ]
  },
  {
   "cell_type": "markdown",
   "metadata": {
    "slideshow": {
     "slide_type": "subslide"
    }
   },
   "source": [
    "## Python Libraries are called\n",
    "- modules, and\n",
    "- packages"
   ]
  },
  {
   "cell_type": "markdown",
   "metadata": {
    "slideshow": {
     "slide_type": "subslide"
    }
   },
   "source": [
    "## Example: Writing a Python module `print_tools`"
   ]
  },
  {
   "cell_type": "markdown",
   "metadata": {},
   "source": [
    "- Make a Python module with the name `print_tools`\n",
    "- containing two functions `print_two_objects` and `task_done`,\n",
    "- and a constant with name `version` specifying the version number.\n",
    "\n",
    "To accomplish this we create a file named `print_tools.py`<br> with the functions and the variable."
   ]
  },
  {
   "cell_type": "code",
   "execution_count": null,
   "metadata": {
    "slideshow": {
     "slide_type": "fragment"
    }
   },
   "outputs": [],
   "source": [
    "!ls"
   ]
  },
  {
   "cell_type": "code",
   "execution_count": null,
   "metadata": {
    "slideshow": {
     "slide_type": "fragment"
    }
   },
   "outputs": [],
   "source": [
    "%%writefile print_tools.py \n",
    "\n",
    "\"\"\" Python module with useful printing functions!\n",
    "Author: Emilia Emilsson (2020), emiemi@chalmers.se \"\"\"\n",
    "\n",
    "version = \"0.0.0\" # Module global variable\n",
    "\n",
    "\n",
    "def print_two_objects(object1, object2):\n",
    "    \"\"\"Prints the two objects to stdout.\n",
    "\n",
    "    :param object1: The first object to print\n",
    "    :type object1: Any type convertible to str\n",
    "\n",
    "    :param object2: The second object to print\n",
    "    :type object2: Any type convertible to str\n",
    "    \"\"\"\n",
    "    print(f'The two objects are: \"{object1}\" and \"{object2}\".')\n",
    "\n",
    "    \n",
    "def taks_done():\n",
    "    \"\"\"Indicate that a task is done by printing a message.\"\"\"\n",
    "    print('Task done.')"
   ]
  },
  {
   "cell_type": "code",
   "execution_count": null,
   "metadata": {
    "scrolled": true,
    "slideshow": {
     "slide_type": "fragment"
    }
   },
   "outputs": [],
   "source": [
    "!ls"
   ]
  },
  {
   "cell_type": "markdown",
   "metadata": {
    "slideshow": {
     "slide_type": "subslide"
    }
   },
   "source": [
    "## Example: Using your Python module `print_tools`"
   ]
  },
  {
   "cell_type": "markdown",
   "metadata": {
    "slideshow": {
     "slide_type": "fragment"
    }
   },
   "source": [
    "\n",
    "We can now import and use our `print_tools` module like any other module"
   ]
  },
  {
   "cell_type": "code",
   "execution_count": null,
   "metadata": {},
   "outputs": [],
   "source": [
    "import print_tools\n",
    "\n",
    "print_tools.print_two_objects(12, \"Blue\")"
   ]
  },
  {
   "cell_type": "markdown",
   "metadata": {},
   "source": [
    "We can also look at the documentation of our module using the `help()` function"
   ]
  },
  {
   "cell_type": "code",
   "execution_count": null,
   "metadata": {},
   "outputs": [],
   "source": [
    "help(print_tools)"
   ]
  },
  {
   "cell_type": "markdown",
   "metadata": {
    "slideshow": {
     "slide_type": "subslide"
    }
   },
   "source": [
    "## Module contents `dir()`\n",
    "\n",
    "Python will automatically create a few variables when importing a module\n",
    "- `__name__` contains the **active module name**, in our example above when we imported our module this is `print_tools`\n",
    "- `__doc__` contains the module documentation,\n",
    "- and some more items that we'll skip for now\n",
    "\n",
    "To inspect the contents of a module use `dir()`"
   ]
  },
  {
   "cell_type": "code",
   "execution_count": null,
   "metadata": {},
   "outputs": [],
   "source": [
    "dir(print_tools)"
   ]
  },
  {
   "cell_type": "code",
   "execution_count": null,
   "metadata": {},
   "outputs": [],
   "source": [
    "print(print_tools.__name__)\n",
    "print(print_tools.version)"
   ]
  },
  {
   "cell_type": "markdown",
   "metadata": {
    "slideshow": {
     "slide_type": "subslide"
    }
   },
   "source": [
    "## The `__name__` variable"
   ]
  },
  {
   "cell_type": "markdown",
   "metadata": {},
   "source": [
    "- shows the name of the **namespace** of the module and its methods\n",
    "- In the previous example, this was the module name itself,<br> i.e. `__name__ == \"print_tools\"`\n",
    "- If we instead **run** the file `print_tools.py` using the Python command-line<br>\n",
    "  the file will be the main namespace of the program and,<br> `__name__ == \"__main__\"`\n",
    "- Hence `__name__` is often used to detect if module is executed \"stand alone\""
   ]
  },
  {
   "cell_type": "markdown",
   "metadata": {
    "slideshow": {
     "slide_type": "subslide"
    }
   },
   "source": [
    "## `print_tools_v1`\n",
    "\n",
    "- Enhance the `task_done` function in `print_tools`<br> to also print the current `__name__` variable\n",
    "- Also add some code that only is excecuted<br> if the module file `print_tools.py` is executed \"stand alone\""
   ]
  },
  {
   "cell_type": "code",
   "execution_count": null,
   "metadata": {
    "slideshow": {
     "slide_type": "fragment"
    }
   },
   "outputs": [],
   "source": [
    "%%writefile print_tools_v1.py \n",
    "\n",
    "\"\"\" Python module with useful printing functions!\n",
    "Author: Emilia Emilsson (2020), emiemi@chalmers.se \"\"\"\n",
    "\n",
    "version = \"1.0.0\" # Module global variable\n",
    "\n",
    "\n",
    "def print_two_objects(object1, object2):\n",
    "    \"\"\"Prints the two objects to stdout.\n",
    "\n",
    "    :param object1: The first object to print\n",
    "    :type object1: Any type convertible to str\n",
    "\n",
    "    :param object2: The second object to print\n",
    "    :type object2: Any type convertible to str\n",
    "    \"\"\"\n",
    "    \n",
    "    print(f'The two objects are: \"{object1}\" and \"{object2}\".')\n",
    "\n",
    "    \n",
    "def task_done():\n",
    "    \"\"\"Indicate that a task is done by printing a message.\"\"\"\n",
    "    print(f'Task done in the \"{__name__}\" module.')\n",
    "    \n",
    "\n",
    "if __name__ == \"__main__\":\n",
    "    print_two_objects(\"This is a test\", \"of print_two_objects\")\n",
    "    task_done()    "
   ]
  },
  {
   "cell_type": "markdown",
   "metadata": {
    "slideshow": {
     "slide_type": "fragment"
    }
   },
   "source": [
    "Running this in the lecture Jupyter notebook gives:"
   ]
  },
  {
   "cell_type": "code",
   "execution_count": null,
   "metadata": {},
   "outputs": [],
   "source": [
    "import print_tools_v1\n",
    "print_tools_v1.task_done()"
   ]
  },
  {
   "cell_type": "markdown",
   "metadata": {},
   "source": [
    "If we instead run our file directly in the Python interpreter from the command-line\n",
    "\n",
    "(using `!` in a cell runs the command on the command line)"
   ]
  },
  {
   "cell_type": "code",
   "execution_count": null,
   "metadata": {},
   "outputs": [],
   "source": [
    "!python print_tools_v1.py"
   ]
  },
  {
   "cell_type": "markdown",
   "metadata": {
    "slideshow": {
     "slide_type": "subslide"
    }
   },
   "source": [
    "## Why use: `if __name__ == '__main__': ...` ?\n",
    "\n",
    "Using the syntax\n",
    "```python\n",
    "def function1():\n",
    "    ...\n",
    "def function2():\n",
    "    ...\n",
    "    \n",
    "if __name__ == '__main__':\n",
    "   # Use the functions to do something uselful.\n",
    "```\n",
    "when writing Python scripts, makes it possible to import the functions in other scripts."
   ]
  },
  {
   "cell_type": "markdown",
   "metadata": {
    "slideshow": {
     "slide_type": "slide"
    }
   },
   "source": [
    "## Python Packages: Organizing modules in directories"
   ]
  },
  {
   "cell_type": "markdown",
   "metadata": {
    "slideshow": {
     "slide_type": "fragment"
    }
   },
   "source": [
    "- When going beyond more than a few functions like above\n",
    "- Consider organizing your modules in a package using directoreis\n",
    "\n",
    "- A directory is also a module if it contains a `__init__.py` file\n",
    "- The `__init__.py` file is read when loading the (directory) module, and can be empty\n",
    "\n"
   ]
  },
  {
   "cell_type": "markdown",
   "metadata": {
    "slideshow": {
     "slide_type": "subslide"
    }
   },
   "source": [
    "## Example: Create a module named `emipy`\n",
    "- using Unix command-line (i.e. Linux and Mac)\n",
    "- on Window use appropriate commands to create a directories and files"
   ]
  },
  {
   "cell_type": "markdown",
   "metadata": {
    "slideshow": {
     "slide_type": "fragment"
    }
   },
   "source": [
    "Steps\n",
    "1. Create the directory `emipy`\n",
    "2. Create an empty file with the name `__init__.py` in `./emipy/`\n",
    "3. Test to import the `emipy` module\n",
    "4. To see more info run `help(emipy)`"
   ]
  },
  {
   "cell_type": "code",
   "execution_count": null,
   "metadata": {},
   "outputs": [],
   "source": [
    "!mkdir emipy\n",
    "!touch emipy/__init__.py\n",
    "!tree"
   ]
  },
  {
   "cell_type": "code",
   "execution_count": null,
   "metadata": {},
   "outputs": [],
   "source": [
    "import emipy\n",
    "help(emipy)"
   ]
  },
  {
   "cell_type": "markdown",
   "metadata": {
    "slideshow": {
     "slide_type": "subslide"
    }
   },
   "source": [
    "## Adding contents to `__init__.py`"
   ]
  },
  {
   "cell_type": "markdown",
   "metadata": {},
   "source": [
    "Lets add some contents to the `__init__.py` module file\n",
    "- Start with a docstring explaining the purpose of the module\n",
    "- Add a print statement that prints the module name using `__name__`\n",
    "- Set the version constant of the module\n",
    "\n",
    "(Side note: After modifying files we have to explicitly reload the module here. This is not needed when deveolping in PyCharm.)"
   ]
  },
  {
   "cell_type": "code",
   "execution_count": null,
   "metadata": {
    "slideshow": {
     "slide_type": "fragment"
    }
   },
   "outputs": [],
   "source": [
    "%%writefile emipy/__init__.py\n",
    "\n",
    "\"\"\"EmiPy the friendly Python package.\n",
    "\n",
    "EmiPy is a Python package with useful helper functions.\n",
    "\n",
    "Author: Emilia Emilsson (2020), emiemi@chalmers.se \"\"\"\n",
    "\n",
    "print(f'Loading {__name__}.')\n",
    "\n",
    "version = \"2.0.0\""
   ]
  },
  {
   "cell_type": "code",
   "execution_count": null,
   "metadata": {},
   "outputs": [],
   "source": [
    "importlib.reload(emipy); # only needed in interactive mode after modifying module files"
   ]
  },
  {
   "cell_type": "code",
   "execution_count": null,
   "metadata": {},
   "outputs": [],
   "source": [
    "help(emipy)"
   ]
  },
  {
   "cell_type": "markdown",
   "metadata": {
    "slideshow": {
     "slide_type": "subslide"
    }
   },
   "source": [
    "## Making a sub-module `emipy.printing`\n",
    "Lets make a sub-module called `printing` in our `emipy` module\n",
    "- create a new file `emipy/printing.py`\n",
    "- add the `print_two_objects` function from before to `printing.py`"
   ]
  },
  {
   "cell_type": "code",
   "execution_count": null,
   "metadata": {},
   "outputs": [],
   "source": [
    "%%writefile emipy/printing.py\n",
    "\n",
    "\"\"\" Python module with useful printing functions!\n",
    "\n",
    "Author: Emilia Emilsson (2020), emiemi@chalmers.se \"\"\"\n",
    "\n",
    "def print_two_objects(object1, object2):\n",
    "    \"\"\"Prints the two objects to stdout.\n",
    "\n",
    "    :param object1: The first object to print\n",
    "    :type object1: Any type convertible to str\n",
    "\n",
    "    :param object2: The second object to print\n",
    "    :type object2: Any type convertible to str\n",
    "    \"\"\"\n",
    "    print(f'The two objects are: \"{object1}\" and \"{object2}\".')"
   ]
  },
  {
   "cell_type": "code",
   "execution_count": null,
   "metadata": {},
   "outputs": [],
   "source": [
    "!tree ./emipy\n"
   ]
  },
  {
   "cell_type": "code",
   "execution_count": null,
   "metadata": {},
   "outputs": [],
   "source": [
    "importlib.reload(emipy);\n",
    "help(emipy)"
   ]
  },
  {
   "cell_type": "code",
   "execution_count": null,
   "metadata": {
    "scrolled": true
   },
   "outputs": [],
   "source": [
    "dir(emipy)"
   ]
  },
  {
   "cell_type": "markdown",
   "metadata": {
    "slideshow": {
     "slide_type": "fragment"
    }
   },
   "source": [
    "**Note:** Our `printing` submodule is missing in `dir(emipy)`?!"
   ]
  },
  {
   "cell_type": "markdown",
   "metadata": {
    "slideshow": {
     "slide_type": "subslide"
    }
   },
   "source": [
    "## Loading sub-modules: How to\n",
    "\n",
    "What do we need to do to use the `printing` sub-module to `emipy`?"
   ]
  },
  {
   "cell_type": "markdown",
   "metadata": {
    "slideshow": {
     "slide_type": "fragment"
    }
   },
   "source": [
    "### Option 1: Import it explicitly\n",
    "\n",
    "```python\n",
    "from emipy import printing\n",
    "help(printing)\n",
    "```"
   ]
  },
  {
   "cell_type": "markdown",
   "metadata": {
    "slideshow": {
     "slide_type": "fragment"
    }
   },
   "source": [
    "### Option 2: Import it in `__init__.py`\n",
    "- To make the `emipy` submodule `printing` available as `emipy.printing` directly when importing `emipy`,\n",
    "- it has to be explicitly imported in the `emipy` module's `__init__.py` file."
   ]
  },
  {
   "cell_type": "markdown",
   "metadata": {
    "slideshow": {
     "slide_type": "subslide"
    }
   },
   "source": [
    "### Example: `__init__.py` imports"
   ]
  },
  {
   "cell_type": "code",
   "execution_count": null,
   "metadata": {},
   "outputs": [],
   "source": [
    "dir(emipy)"
   ]
  },
  {
   "cell_type": "code",
   "execution_count": null,
   "metadata": {},
   "outputs": [],
   "source": [
    "%%writefile emipy/__init__.py\n",
    "\n",
    "\"\"\"EmiPy the friendly Python package.\n",
    "\n",
    "EmiPy is a Python package with useful helper functions.\n",
    "\n",
    "Author: Emilia Emilsson (2020), emiemi@chalmers.se \"\"\"\n",
    "\n",
    "print(f'Loading {__name__}.')\n",
    "\n",
    "version = \"2.0.0\"\n",
    "\n",
    "from . import printing"
   ]
  },
  {
   "cell_type": "code",
   "execution_count": null,
   "metadata": {
    "scrolled": true
   },
   "outputs": [],
   "source": [
    "importlib.reload(emipy);"
   ]
  },
  {
   "cell_type": "code",
   "execution_count": null,
   "metadata": {},
   "outputs": [],
   "source": [
    "dir(emipy)"
   ]
  },
  {
   "cell_type": "code",
   "execution_count": null,
   "metadata": {},
   "outputs": [],
   "source": [
    "emipy.printing.print_two_objects(\n",
    "    'Calling the function \"print_two_objects\"', \n",
    "    'from the module \"emipy\" and the sub-module \"printing\"')"
   ]
  },
  {
   "cell_type": "markdown",
   "metadata": {
    "slideshow": {
     "slide_type": "subslide"
    }
   },
   "source": [
    "## Modules using modules\n",
    "\n",
    "When having many functions in a module\n",
    "- that logically belong together,\n",
    "- it is still possible to spread then over serveral files,\n",
    "- while presenting them in a single module."
   ]
  },
  {
   "cell_type": "markdown",
   "metadata": {
    "slideshow": {
     "slide_type": "fragment"
    }
   },
   "source": [
    "- Let's extend the `printing` module with more functionality\n",
    "- but place the added code in the file `./emipy/printing_extension.py`"
   ]
  },
  {
   "cell_type": "code",
   "execution_count": null,
   "metadata": {},
   "outputs": [],
   "source": [
    "%%writefile emipy/printing_extension.py\n",
    "\"\"\" Python module with extended set of useful printing functions!\n",
    "\n",
    "To do:\n",
    "- Write documentation for the new functions\n",
    "- Hand in Computer Assignment 1, this weekend!!\n",
    "\n",
    "Author: Emilia Emilsson (2020), emiemi@chalmers.se \"\"\"\n",
    "\n",
    "def print_one_object(obj):\n",
    "    print(obj)\n",
    "\n",
    "def print_two_objects(obj1, obj2):\n",
    "    print(obj1, obj2)\n",
    "\n",
    "def print_many_objects(*objects):\n",
    "    print(*objects, sep=' ')"
   ]
  },
  {
   "cell_type": "code",
   "execution_count": null,
   "metadata": {
    "slideshow": {
     "slide_type": "fragment"
    }
   },
   "outputs": [],
   "source": [
    "!tree ./emipy"
   ]
  },
  {
   "cell_type": "markdown",
   "metadata": {
    "slideshow": {
     "slide_type": "fragment"
    }
   },
   "source": [
    "We want the function `print_one_object` in `printing_extension.py` \n",
    "\n",
    "to be available as `emipy.printing.print_one_object`\n",
    "\n",
    "This is possible by importing these functions in `printing.py`!"
   ]
  },
  {
   "cell_type": "code",
   "execution_count": null,
   "metadata": {
    "slideshow": {
     "slide_type": "fragment"
    }
   },
   "outputs": [],
   "source": [
    "%%writefile emipy/printing.py\n",
    "\n",
    "\"\"\" Python module with useful printing functions!\n",
    "\n",
    "Author: Emilia Emilsson (2020), emiemi@chalmers.se \"\"\"\n",
    "\n",
    "from .printing_extension import print_one_object, print_two_objects, print_many_objects\n",
    "\n",
    "def print_two_objects(object1, object2):\n",
    "    \"\"\"Prints the two objects to stdout.\n",
    "\n",
    "    :param object1: The first object to print\n",
    "    :type object1: Any type convertible to str\n",
    "\n",
    "    :param object2: The second object to print\n",
    "    :type object2: Any type convertible to str\n",
    "    \"\"\"\n",
    "    \n",
    "    print(f'The two objects are: \"{object1}\" and \"{object2}\".')"
   ]
  },
  {
   "cell_type": "code",
   "execution_count": null,
   "metadata": {},
   "outputs": [],
   "source": [
    "importlib.reload(emipy.printing); importlib.reload(emipy.printing_extension);"
   ]
  },
  {
   "cell_type": "code",
   "execution_count": null,
   "metadata": {
    "scrolled": true
   },
   "outputs": [],
   "source": [
    "emipy.printing.print_many_objects('Ada', 'Lovelace', 'was', 'the', 'world\\'s', 'first', 'programmer!') "
   ]
  },
  {
   "cell_type": "markdown",
   "metadata": {
    "slideshow": {
     "slide_type": "slide"
    }
   },
   "source": [
    "# Scope and namespaces"
   ]
  },
  {
   "cell_type": "markdown",
   "metadata": {},
   "source": [
    "The concepts\n",
    "- **namespace**, and\n",
    "- variable **scope**\n",
    "\n",
    "are central to (good) programming."
   ]
  },
  {
   "cell_type": "markdown",
   "metadata": {
    "slideshow": {
     "slide_type": "fragment"
    }
   },
   "source": [
    "As written in \"*The Zen of Python*\"\n",
    "\n",
    "`Namespaces are one honking great idea—let’s do more of those!`"
   ]
  },
  {
   "cell_type": "markdown",
   "metadata": {
    "slideshow": {
     "slide_type": "subslide"
    }
   },
   "source": [
    "## Namespaces"
   ]
  },
  {
   "cell_type": "markdown",
   "metadata": {},
   "source": [
    "- A **namespace** is a dictionary that maps **names** to objects\n",
    "- The python function `dir` inspects the names in a **namespace**"
   ]
  },
  {
   "cell_type": "markdown",
   "metadata": {
    "slideshow": {
     "slide_type": "fragment"
    }
   },
   "source": [
    "Python comes with many **namespaces**\n",
    "- The built in namespace, contains the predefined Python functions and classes, e.g. `print`, `dir`, etc.\n",
    "- The global namespace, is the first namespace of any Python program.\n",
    "- Module namespaces, when using `import numpy as np` the `np` object refers to NumPy's namespace"
   ]
  },
  {
   "cell_type": "markdown",
   "metadata": {
    "slideshow": {
     "slide_type": "subslide"
    }
   },
   "source": [
    "## Scope"
   ]
  },
  {
   "cell_type": "markdown",
   "metadata": {},
   "source": [
    "- A **scope** is a list of **namespaces** \n",
    "- that Python searches through to find the object related to a name in the code\n",
    "- Every indentation level in Python adds a new **namespace** in the **scope**'s list of **namespaces**"
   ]
  },
  {
   "cell_type": "markdown",
   "metadata": {
    "slideshow": {
     "slide_type": "fragment"
    }
   },
   "source": [
    "- When using a variable `a` in Python, \n",
    "- the interperter looks at the current scope and its list of namespaces\n",
    "  - the inner-most namespace is first searched\n",
    "  - if the variable `a` is not found, the next namespace in the scope list is searched\n",
    "  - and so on ...\n",
    "  - second to last in the scope list is **the global namespace**\n",
    "  - and in the very end is the **built in namespace**\n",
    "\n",
    "\n",
    "- When creating a variable `b` in Python\n",
    "  - it is by default added to the innermost namespace of the scope, often called the **active namespace**"
   ]
  },
  {
   "cell_type": "markdown",
   "metadata": {
    "slideshow": {
     "slide_type": "subslide"
    }
   },
   "source": [
    "## Example: Scope"
   ]
  },
  {
   "cell_type": "code",
   "execution_count": null,
   "metadata": {},
   "outputs": [],
   "source": [
    "a = 1 # in global namespace\n",
    "b = 2\n",
    "\n",
    "def print_a_and_b():\n",
    "    \n",
    "    # each function has its own inner namespace\n",
    "    \n",
    "    print(a) # no name \"a\" in the current namespace, look through all namespaces in the scope\n",
    "\n",
    "    b = 3 # New variable \"b\" in the local namespace\n",
    "    print(b) # \"b\" is defined in the current namespace and it is found first and used\n",
    "    \n",
    "print_a_and_b()\n",
    "\n",
    "print(b) # The name \"b\" in the global namespace is however unchanged"
   ]
  },
  {
   "cell_type": "code",
   "execution_count": null,
   "metadata": {
    "slideshow": {
     "slide_type": "fragment"
    }
   },
   "outputs": [],
   "source": [
    "a = 1\n",
    "\n",
    "def print_a():\n",
    "    a = 10\n",
    "    print(a)\n",
    "    \n",
    "print_a()\n",
    "print(a)"
   ]
  },
  {
   "cell_type": "markdown",
   "metadata": {
    "slideshow": {
     "slide_type": "subslide"
    }
   },
   "source": [
    "## Modify scope with `global` and `nonlocal`"
   ]
  },
  {
   "cell_type": "markdown",
   "metadata": {},
   "source": [
    "You can override the scope of a variable using the `global` and `nonlocal` keywords.\n",
    "- `global a` will let you modify `a` directly in the global namespace\n",
    "- `nonlocal a` does the same, but only for `a` in the next outer namespace of the current scope\n",
    "\n",
    "**Note:** If you end up using this, you are probably better off redesigning your code."
   ]
  },
  {
   "cell_type": "markdown",
   "metadata": {
    "slideshow": {
     "slide_type": "subslide"
    }
   },
   "source": [
    "## Example: `global` and `nonlocal`"
   ]
  },
  {
   "cell_type": "code",
   "execution_count": null,
   "metadata": {
    "slideshow": {
     "slide_type": "-"
    }
   },
   "outputs": [],
   "source": [
    "def myfunc():\n",
    "    \n",
    "    def func_local():\n",
    "        a = \"local\"\n",
    "    \n",
    "    def func_nonlocal():\n",
    "        nonlocal a\n",
    "        a = \"nonlocal\"\n",
    "    \n",
    "    def func_global():\n",
    "        global a\n",
    "        a = \"global\"\n",
    "    \n",
    "    a = \"func\"\n",
    "    \n",
    "    func_local()\n",
    "    print(\"After func_local:\", a)\n",
    "    \n",
    "    func_nonlocal()\n",
    "    print(\"After func_nonlocal:\", a)\n",
    "    \n",
    "    func_global()\n",
    "    print(\"After func global:\", a)\n",
    "\n",
    "a = \"main\"\n",
    "print(\"In global (main) scope, before call:\", a)\n",
    "\n",
    "myfunc()\n",
    "print(\"In global (main) scope, after call:\", a)"
   ]
  },
  {
   "cell_type": "markdown",
   "metadata": {
    "slideshow": {
     "slide_type": "slide"
    }
   },
   "source": [
    "# What `import` **actually** does"
   ]
  },
  {
   "cell_type": "markdown",
   "metadata": {},
   "source": [
    "Now we can express what the different forms of `import` statements does!"
   ]
  },
  {
   "cell_type": "markdown",
   "metadata": {
    "slideshow": {
     "slide_type": "fragment"
    }
   },
   "source": [
    "```python\n",
    "import emipy\n",
    "```\n",
    "- import the module `emipy`\n",
    "- by adding and object named `emipy` to the **active namespace**\n",
    "- where the object `emipy` contains the **module namespace**"
   ]
  },
  {
   "cell_type": "markdown",
   "metadata": {
    "slideshow": {
     "slide_type": "fragment"
    }
   },
   "source": [
    "```python\n",
    "import emipy as ep\n",
    "```\n",
    "- import the module `emipy`\n",
    "- by adding and object named `ep` to the **active namespace**\n",
    "- that contains the `emipy` **module namespace** "
   ]
  },
  {
   "cell_type": "markdown",
   "metadata": {
    "slideshow": {
     "slide_type": "fragment"
    }
   },
   "source": [
    "```python\n",
    "from emipy import printing\n",
    "```\n",
    "- import the sub-module `printing` from the `emipy` **module namespace**\n",
    "- and add it to the **active namespace**"
   ]
  },
  {
   "cell_type": "markdown",
   "metadata": {
    "slideshow": {
     "slide_type": "fragment"
    }
   },
   "source": [
    "```python\n",
    "from emipy.printing import print_two_objects\n",
    "```\n",
    "- import the function `print_two_objects` from the `emipy.printing` **submodule namespace**\n",
    "- and add it to the **active namespace**"
   ]
  },
  {
   "cell_type": "markdown",
   "metadata": {
    "slideshow": {
     "slide_type": "fragment"
    }
   },
   "source": [
    "```python\n",
    "from emipy.printing import *\n",
    "```\n",
    "- import all names in the `emipy.printing` **submodule namespace**\n",
    "- and add them to the **active namespace**"
   ]
  },
  {
   "cell_type": "markdown",
   "metadata": {
    "slideshow": {
     "slide_type": "slide"
    }
   },
   "source": [
    "# Command-line arguments"
   ]
  },
  {
   "cell_type": "markdown",
   "metadata": {
    "slideshow": {
     "slide_type": "fragment"
    }
   },
   "source": [
    "Command line arguments can be obtained from the standard module `sys` and the `sys.argv` varaible."
   ]
  },
  {
   "cell_type": "code",
   "execution_count": null,
   "metadata": {},
   "outputs": [],
   "source": [
    "%%writefile test_sys_argv.py\n",
    "import sys\n",
    "print('type(sys.argv) =', type(sys.argv))\n",
    "print('Got command line arguments:\\n', sys.argv)"
   ]
  },
  {
   "cell_type": "code",
   "execution_count": null,
   "metadata": {},
   "outputs": [],
   "source": [
    "!python test_sys_argv.py \"First command line argument\" \"Second command line argument\""
   ]
  },
  {
   "cell_type": "markdown",
   "metadata": {
    "slideshow": {
     "slide_type": "fragment"
    }
   },
   "source": [
    "## Use `argparse` instead of parsing `sys.argv` \n",
    "For **parsing** of command line parameters, use [the `argparse` module](https://docs.python.org/3/howto/argparse.html)."
   ]
  },
  {
   "cell_type": "code",
   "execution_count": null,
   "metadata": {},
   "outputs": [],
   "source": [
    "import argparse\n",
    "help(argparse)"
   ]
  },
  {
   "cell_type": "markdown",
   "metadata": {
    "slideshow": {
     "slide_type": "slide"
    }
   },
   "source": [
    "# The Zen of Python"
   ]
  },
  {
   "cell_type": "code",
   "execution_count": null,
   "metadata": {
    "scrolled": false,
    "slideshow": {
     "slide_type": "-"
    }
   },
   "outputs": [],
   "source": [
    "import this"
   ]
  },
  {
   "cell_type": "markdown",
   "metadata": {
    "slideshow": {
     "slide_type": "slide"
    }
   },
   "source": [
    "# Lecture 6: The End"
   ]
  },
  {
   "cell_type": "code",
   "execution_count": null,
   "metadata": {},
   "outputs": [],
   "source": [
    "import __hello__"
   ]
  }
 ],
 "metadata": {
  "anaconda-cloud": {},
  "kernelspec": {
   "display_name": "Python 3",
   "language": "python",
   "name": "python3"
  },
  "language_info": {
   "codemirror_mode": {
    "name": "ipython",
    "version": 3
   },
   "file_extension": ".py",
   "mimetype": "text/x-python",
   "name": "python",
   "nbconvert_exporter": "python",
   "pygments_lexer": "ipython3",
   "version": "3.7.6"
  }
 },
 "nbformat": 4,
 "nbformat_minor": 1
}
